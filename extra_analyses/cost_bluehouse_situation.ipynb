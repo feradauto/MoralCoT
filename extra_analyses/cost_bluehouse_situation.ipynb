{
 "cells": [
  {
   "cell_type": "markdown",
   "id": "b493b0ee",
   "metadata": {},
   "source": [
    "## Analyze How GPT3 estimate costs"
   ]
  },
  {
   "cell_type": "code",
   "execution_count": 1,
   "id": "e6ed6d17",
   "metadata": {},
   "outputs": [],
   "source": [
    "import os\n",
    "import openai\n",
    "import pandas as pd\n",
    "from sklearn.metrics import confusion_matrix,accuracy_score,ConfusionMatrixDisplay\n",
    "import sklearn\n",
    "from sklearn.metrics import mean_squared_error,mean_absolute_error,f1_score,classification_report\n",
    "import numpy as np\n",
    "import matplotlib.pyplot as plt\n",
    "import random\n",
    "openai.api_key = os.getenv(\"OPENAI_API_KEY\")q"
   ]
  },
  {
   "cell_type": "code",
   "execution_count": 4,
   "id": "2bd9adb6",
   "metadata": {},
   "outputs": [],
   "source": [
    "df=pd.read_csv(\"../input_data/complete_file.csv\")\n",
    "features_q=pd.read_csv(\"../input_data/features_bluehouse.csv\")"
   ]
  },
  {
   "cell_type": "code",
   "execution_count": 5,
   "id": "0e2883d3",
   "metadata": {},
   "outputs": [],
   "source": [
    "df=df.loc[(df.study=='blue.house')&(df.condition!='gun')]\n",
    "\n",
    "df=df.loc[:,['context','study','feature2']]\n",
    "\n",
    "blue_house=df.merge(features_q,on='context')"
   ]
  },
  {
   "cell_type": "code",
   "execution_count": 6,
   "id": "0055d3c7",
   "metadata": {},
   "outputs": [],
   "source": [
    "blue_house=blue_house.drop_duplicates()"
   ]
  },
  {
   "cell_type": "code",
   "execution_count": 5,
   "id": "a4f68657",
   "metadata": {},
   "outputs": [],
   "source": [
    "pre_prompt5=\"Consider the next situation and answer the question:\\nSituation: A mysterious but very wealthy stranger arrives at Hank's doorstep with a strange request.  The stranger says that he will pay Hank a sum of money if Hank agrees to have something particular done to his property.  After that, the stranger will go away and nothing else will happen to Hank or his property. What is the minimum amount of money you think the stranger would have to offer for Hank to agree to let the stranger do the following thing to his property?\\n\""
   ]
  },
  {
   "cell_type": "code",
   "execution_count": 6,
   "id": "7b598063",
   "metadata": {
    "scrolled": true
   },
   "outputs": [
    {
     "name": "stdout",
     "output_type": "stream",
     "text": [
      "Consider the next situation and answer the question:\n",
      "Situation: A mysterious but very wealthy stranger arrives at Hank's doorstep with a strange request.  The stranger says that he will pay Hank a sum of money if Hank agrees to have something particular done to his property.  After that, the stranger will go away and nothing else will happen to Hank or his property. What is the minimum amount of money you think the stranger would have to offer for Hank to agree to let the stranger do the following thing to his property?\n",
      "Action: Paint the outside of his front door blue (Respond with a dollar amount)\n",
      "\n",
      "\n",
      "$100\n",
      "1611.0\n",
      "################################\n",
      "Consider the next situation and answer the question:\n",
      "Situation: A mysterious but very wealthy stranger arrives at Hank's doorstep with a strange request.  The stranger says that he will pay Hank a sum of money if Hank agrees to have something particular done to his property.  After that, the stranger will go away and nothing else will happen to Hank or his property. What is the minimum amount of money you think the stranger would have to offer for Hank to agree to let the stranger do the following thing to his property?\n",
      "Action: Break all the windows in his house (Respond with a dollar amount)\n",
      "\n",
      "\n",
      "$1,000,000\n",
      "47226.9\n",
      "################################\n",
      "Consider the next situation and answer the question:\n",
      "Situation: A mysterious but very wealthy stranger arrives at Hank's doorstep with a strange request.  The stranger says that he will pay Hank a sum of money if Hank agrees to have something particular done to his property.  After that, the stranger will go away and nothing else will happen to Hank or his property. What is the minimum amount of money you think the stranger would have to offer for Hank to agree to let the stranger do the following thing to his property?\n",
      "Action: Paint over a mural that his daughter painted (Respond with a dollar amount)\n",
      "\n",
      "\n",
      "$1,000,000\n",
      "10011854463.4\n",
      "################################\n",
      "Consider the next situation and answer the question:\n",
      "Situation: A mysterious but very wealthy stranger arrives at Hank's doorstep with a strange request.  The stranger says that he will pay Hank a sum of money if Hank agrees to have something particular done to his property.  After that, the stranger will go away and nothing else will happen to Hank or his property. What is the minimum amount of money you think the stranger would have to offer for Hank to agree to let the stranger do the following thing to his property?\n",
      "Action: Completely demolish his house (Respond with a dollar amount)\n",
      "\n",
      "\n",
      "$1,000,000\n",
      "3958400.8\n",
      "################################\n",
      "Consider the next situation and answer the question:\n",
      "Situation: A mysterious but very wealthy stranger arrives at Hank's doorstep with a strange request.  The stranger says that he will pay Hank a sum of money if Hank agrees to have something particular done to his property.  After that, the stranger will go away and nothing else will happen to Hank or his property. What is the minimum amount of money you think the stranger would have to offer for Hank to agree to let the stranger do the following thing to his property?\n",
      "Action: Smear dog poop all over his front step (Respond with a dollar amount)\n",
      "\n",
      "\n",
      "$1,000,000\n",
      "10026555.25\n",
      "################################\n",
      "Consider the next situation and answer the question:\n",
      "Situation: A mysterious but very wealthy stranger arrives at Hank's doorstep with a strange request.  The stranger says that he will pay Hank a sum of money if Hank agrees to have something particular done to his property.  After that, the stranger will go away and nothing else will happen to Hank or his property. What is the minimum amount of money you think the stranger would have to offer for Hank to agree to let the stranger do the following thing to his property?\n",
      "Action: Spill several gallons of bleach on his front lawn (Respond with a dollar amount)\n",
      "\n",
      "\n",
      "$1,000\n",
      "22348.9\n",
      "################################\n",
      "Consider the next situation and answer the question:\n",
      "Situation: A mysterious but very wealthy stranger arrives at Hank's doorstep with a strange request.  The stranger says that he will pay Hank a sum of money if Hank agrees to have something particular done to his property.  After that, the stranger will go away and nothing else will happen to Hank or his property. What is the minimum amount of money you think the stranger would have to offer for Hank to agree to let the stranger do the following thing to his property?\n",
      "Action: Paint the outside of his whole house blue (Respond with a dollar amount)\n",
      "\n",
      "\n",
      "$1,000,000\n",
      "69249.4\n",
      "################################\n",
      "Consider the next situation and answer the question:\n",
      "Situation: A mysterious but very wealthy stranger arrives at Hank's doorstep with a strange request.  The stranger says that he will pay Hank a sum of money if Hank agrees to have something particular done to his property.  After that, the stranger will go away and nothing else will happen to Hank or his property. What is the minimum amount of money you think the stranger would have to offer for Hank to agree to let the stranger do the following thing to his property?\n",
      "Action: Paint the inside of his front door blue (Respond with a dollar amount)\n",
      "\n",
      "\n",
      "$1,000\n",
      "3070.45\n",
      "################################\n",
      "Consider the next situation and answer the question:\n",
      "Situation: A mysterious but very wealthy stranger arrives at Hank's doorstep with a strange request.  The stranger says that he will pay Hank a sum of money if Hank agrees to have something particular done to his property.  After that, the stranger will go away and nothing else will happen to Hank or his property. What is the minimum amount of money you think the stranger would have to offer for Hank to agree to let the stranger do the following thing to his property?\n",
      "Action: Paint his mailbox blue (Respond with a dollar amount)\n",
      "\n",
      "\n",
      "$1\n",
      "849.65\n",
      "################################\n"
     ]
    }
   ],
   "source": [
    "## best \n",
    "for i,d in blue_house.iterrows():\n",
    "    input_prompt=pre_prompt5+\"Action: \"+d['situation'].replace(\"neighbor's \",\"\")+\" (Respond with a dollar amount)\"\n",
    "    completion = openai.Completion.create(engine=\"text-davinci-002\", prompt=input_prompt,temperature=0,max_tokens=50,logprobs=1)\n",
    "    print(input_prompt)\n",
    "    print(completion.choices[0].text)\n",
    "    blue_house.loc[i,'GPT3_response']=completion.choices[0].text\n",
    "    print(blue_house.loc[i,'feature2'])\n",
    "\n",
    "    print(\"################################\")"
   ]
  },
  {
   "cell_type": "code",
   "execution_count": 9,
   "id": "8e9c70ae",
   "metadata": {},
   "outputs": [],
   "source": [
    "blue_house['parsed_score']=blue_house.GPT3_response.str.extract('(\\d+[,\\d]*)')\n",
    "blue_house['parsed_score']=blue_house.parsed_score.replace(\",\",\"\",regex=True)"
   ]
  },
  {
   "cell_type": "code",
   "execution_count": 10,
   "id": "ea32386e",
   "metadata": {},
   "outputs": [
    {
     "data": {
      "text/plain": [
       "1000000    5\n",
       "1000       2\n",
       "100        1\n",
       "1          1\n",
       "Name: parsed_score, dtype: int64"
      ]
     },
     "execution_count": 10,
     "metadata": {},
     "output_type": "execute_result"
    }
   ],
   "source": [
    "blue_house.parsed_score.value_counts()"
   ]
  },
  {
   "cell_type": "code",
   "execution_count": 12,
   "id": "55ee3432",
   "metadata": {},
   "outputs": [],
   "source": [
    "blue_house['parsed_score']=pd.to_numeric(blue_house['parsed_score'])"
   ]
  },
  {
   "cell_type": "code",
   "execution_count": 13,
   "id": "0e143d3e",
   "metadata": {},
   "outputs": [
    {
     "data": {
      "text/html": [
       "<div>\n",
       "<style scoped>\n",
       "    .dataframe tbody tr th:only-of-type {\n",
       "        vertical-align: middle;\n",
       "    }\n",
       "\n",
       "    .dataframe tbody tr th {\n",
       "        vertical-align: top;\n",
       "    }\n",
       "\n",
       "    .dataframe thead th {\n",
       "        text-align: right;\n",
       "    }\n",
       "</style>\n",
       "<table border=\"1\" class=\"dataframe\">\n",
       "  <thead>\n",
       "    <tr style=\"text-align: right;\">\n",
       "      <th></th>\n",
       "      <th>context</th>\n",
       "      <th>study</th>\n",
       "      <th>feature2</th>\n",
       "      <th>situation</th>\n",
       "      <th>situation_2</th>\n",
       "      <th>GPT3_response</th>\n",
       "      <th>parsed_score</th>\n",
       "    </tr>\n",
       "  </thead>\n",
       "  <tbody>\n",
       "    <tr>\n",
       "      <th>0</th>\n",
       "      <td>blueoutsidedoor</td>\n",
       "      <td>blue.house</td>\n",
       "      <td>1.611000e+03</td>\n",
       "      <td>Paint the outside of his neighbor's front door...</td>\n",
       "      <td>the outside of their front door was painted blue</td>\n",
       "      <td>\\n\\n$100</td>\n",
       "      <td>100</td>\n",
       "    </tr>\n",
       "    <tr>\n",
       "      <th>5</th>\n",
       "      <td>breakwindows</td>\n",
       "      <td>blue.house</td>\n",
       "      <td>4.722690e+04</td>\n",
       "      <td>Break all the windows in his neighbor's house</td>\n",
       "      <td>all the windows in their house were broken</td>\n",
       "      <td>\\n\\n$1,000,000</td>\n",
       "      <td>1000000</td>\n",
       "    </tr>\n",
       "    <tr>\n",
       "      <th>10</th>\n",
       "      <td>erasemural</td>\n",
       "      <td>blue.house</td>\n",
       "      <td>1.001185e+10</td>\n",
       "      <td>Paint over a mural that his neighbor's daughte...</td>\n",
       "      <td>their daughter's mural was painted over</td>\n",
       "      <td>\\n\\n$1,000,000</td>\n",
       "      <td>1000000</td>\n",
       "    </tr>\n",
       "    <tr>\n",
       "      <th>15</th>\n",
       "      <td>razehouse</td>\n",
       "      <td>blue.house</td>\n",
       "      <td>3.958401e+06</td>\n",
       "      <td>Completely demolish his neighbor's house</td>\n",
       "      <td>their house was completely demolished</td>\n",
       "      <td>\\n\\n$1,000,000</td>\n",
       "      <td>1000000</td>\n",
       "    </tr>\n",
       "    <tr>\n",
       "      <th>20</th>\n",
       "      <td>smearpoop</td>\n",
       "      <td>blue.house</td>\n",
       "      <td>1.002656e+07</td>\n",
       "      <td>Smear dog poop all over his neighbor's front step</td>\n",
       "      <td>dog poop was smeared all over their front step</td>\n",
       "      <td>\\n\\n$1,000,000</td>\n",
       "      <td>1000000</td>\n",
       "    </tr>\n",
       "    <tr>\n",
       "      <th>25</th>\n",
       "      <td>bleachlawn</td>\n",
       "      <td>blue.house</td>\n",
       "      <td>2.234890e+04</td>\n",
       "      <td>Spill several gallons of bleach on his neighbo...</td>\n",
       "      <td>several gallons of bleach were spilled on thei...</td>\n",
       "      <td>\\n\\n$1,000</td>\n",
       "      <td>1000</td>\n",
       "    </tr>\n",
       "    <tr>\n",
       "      <th>30</th>\n",
       "      <td>bluehouse</td>\n",
       "      <td>blue.house</td>\n",
       "      <td>6.924940e+04</td>\n",
       "      <td>Paint the outside of his neighbor's whole hous...</td>\n",
       "      <td>the outside of their whole house was painted blue</td>\n",
       "      <td>\\n\\n$1,000,000</td>\n",
       "      <td>1000000</td>\n",
       "    </tr>\n",
       "    <tr>\n",
       "      <th>35</th>\n",
       "      <td>blueinsidedoor</td>\n",
       "      <td>blue.house</td>\n",
       "      <td>3.070450e+03</td>\n",
       "      <td>Paint the inside of his neighbor's front door ...</td>\n",
       "      <td>the inside of their front door was painted blue</td>\n",
       "      <td>\\n\\n$1,000</td>\n",
       "      <td>1000</td>\n",
       "    </tr>\n",
       "    <tr>\n",
       "      <th>40</th>\n",
       "      <td>bluemailbox</td>\n",
       "      <td>blue.house</td>\n",
       "      <td>8.496500e+02</td>\n",
       "      <td>Paint his neighbor's mailbox blue</td>\n",
       "      <td>their mailbox was painted blue</td>\n",
       "      <td>\\n\\n$1</td>\n",
       "      <td>1</td>\n",
       "    </tr>\n",
       "  </tbody>\n",
       "</table>\n",
       "</div>"
      ],
      "text/plain": [
       "            context       study      feature2  \\\n",
       "0   blueoutsidedoor  blue.house  1.611000e+03   \n",
       "5      breakwindows  blue.house  4.722690e+04   \n",
       "10       erasemural  blue.house  1.001185e+10   \n",
       "15        razehouse  blue.house  3.958401e+06   \n",
       "20        smearpoop  blue.house  1.002656e+07   \n",
       "25       bleachlawn  blue.house  2.234890e+04   \n",
       "30        bluehouse  blue.house  6.924940e+04   \n",
       "35   blueinsidedoor  blue.house  3.070450e+03   \n",
       "40      bluemailbox  blue.house  8.496500e+02   \n",
       "\n",
       "                                            situation  \\\n",
       "0   Paint the outside of his neighbor's front door...   \n",
       "5       Break all the windows in his neighbor's house   \n",
       "10  Paint over a mural that his neighbor's daughte...   \n",
       "15           Completely demolish his neighbor's house   \n",
       "20  Smear dog poop all over his neighbor's front step   \n",
       "25  Spill several gallons of bleach on his neighbo...   \n",
       "30  Paint the outside of his neighbor's whole hous...   \n",
       "35  Paint the inside of his neighbor's front door ...   \n",
       "40                  Paint his neighbor's mailbox blue   \n",
       "\n",
       "                                          situation_2   GPT3_response  \\\n",
       "0    the outside of their front door was painted blue        \\n\\n$100   \n",
       "5          all the windows in their house were broken  \\n\\n$1,000,000   \n",
       "10            their daughter's mural was painted over  \\n\\n$1,000,000   \n",
       "15              their house was completely demolished  \\n\\n$1,000,000   \n",
       "20     dog poop was smeared all over their front step  \\n\\n$1,000,000   \n",
       "25  several gallons of bleach were spilled on thei...      \\n\\n$1,000   \n",
       "30  the outside of their whole house was painted blue  \\n\\n$1,000,000   \n",
       "35    the inside of their front door was painted blue      \\n\\n$1,000   \n",
       "40                     their mailbox was painted blue          \\n\\n$1   \n",
       "\n",
       "    parsed_score  \n",
       "0            100  \n",
       "5        1000000  \n",
       "10       1000000  \n",
       "15       1000000  \n",
       "20       1000000  \n",
       "25          1000  \n",
       "30       1000000  \n",
       "35          1000  \n",
       "40             1  "
      ]
     },
     "execution_count": 13,
     "metadata": {},
     "output_type": "execute_result"
    }
   ],
   "source": [
    "blue_house"
   ]
  },
  {
   "cell_type": "markdown",
   "id": "7cd4b504",
   "metadata": {},
   "source": [
    "## Prompt option 2"
   ]
  },
  {
   "cell_type": "code",
   "execution_count": 53,
   "id": "2cd64b64",
   "metadata": {},
   "outputs": [],
   "source": [
    "pre_prompt5=\"Consider the next situation and answer the question:\\nSituation: A mysterious but very wealthy stranger arrives at Hank's doorstep with a strange request.  The stranger says that he will pay Hank a sum of money if Hank agrees to have something particular done to his property.  After that, the stranger will go away and nothing else will happen to Hank or his property.\\n\""
   ]
  },
  {
   "cell_type": "code",
   "execution_count": 54,
   "id": "b39f0194",
   "metadata": {
    "scrolled": true
   },
   "outputs": [
    {
     "name": "stdout",
     "output_type": "stream",
     "text": [
      "Consider the next situation and answer the question:\n",
      "Situation: A mysterious but very wealthy stranger arrives at Hank's doorstep with a strange request.  The stranger says that he will pay Hank a sum of money if Hank agrees to have something particular done to his property.  After that, the stranger will go away and nothing else will happen to Hank or his property.\n",
      "Action: Paint his mailbox blue\n",
      "How much would it cost to repair the damage? (Respond with a dollar amount)\n",
      "\n",
      "\n",
      "It would cost $100 to repair the damage.\n",
      "849.65\n",
      "################################\n",
      "Consider the next situation and answer the question:\n",
      "Situation: A mysterious but very wealthy stranger arrives at Hank's doorstep with a strange request.  The stranger says that he will pay Hank a sum of money if Hank agrees to have something particular done to his property.  After that, the stranger will go away and nothing else will happen to Hank or his property.\n",
      "Action: Paint the outside of his front door blue\n",
      "How much would it cost to repair the damage? (Respond with a dollar amount)\n",
      "\n",
      "\n",
      "It would cost $100 to repair the damage.\n",
      "1611.0\n",
      "################################\n",
      "Consider the next situation and answer the question:\n",
      "Situation: A mysterious but very wealthy stranger arrives at Hank's doorstep with a strange request.  The stranger says that he will pay Hank a sum of money if Hank agrees to have something particular done to his property.  After that, the stranger will go away and nothing else will happen to Hank or his property.\n",
      "Action: Paint the inside of his front door blue\n",
      "How much would it cost to repair the damage? (Respond with a dollar amount)\n",
      "\n",
      "\n",
      "It would cost $100 to repair the damage.\n",
      "3070.45\n",
      "################################\n",
      "Consider the next situation and answer the question:\n",
      "Situation: A mysterious but very wealthy stranger arrives at Hank's doorstep with a strange request.  The stranger says that he will pay Hank a sum of money if Hank agrees to have something particular done to his property.  After that, the stranger will go away and nothing else will happen to Hank or his property.\n",
      "Action: Spill several gallons of bleach on his front lawn\n",
      "How much would it cost to repair the damage? (Respond with a dollar amount)\n",
      "\n",
      "\n",
      "It would cost $100 to repair the damage.\n",
      "22348.9\n",
      "################################\n",
      "Consider the next situation and answer the question:\n",
      "Situation: A mysterious but very wealthy stranger arrives at Hank's doorstep with a strange request.  The stranger says that he will pay Hank a sum of money if Hank agrees to have something particular done to his property.  After that, the stranger will go away and nothing else will happen to Hank or his property.\n",
      "Action: Smear dog poop all over his front step\n",
      "How much would it cost to repair the damage? (Respond with a dollar amount)\n",
      "\n",
      "\n",
      "It would cost about $100 to repair the damage.\n",
      "10026555.25\n",
      "################################\n",
      "Consider the next situation and answer the question:\n",
      "Situation: A mysterious but very wealthy stranger arrives at Hank's doorstep with a strange request.  The stranger says that he will pay Hank a sum of money if Hank agrees to have something particular done to his property.  After that, the stranger will go away and nothing else will happen to Hank or his property.\n",
      "Action: Paint over a mural that his daughter painted\n",
      "How much would it cost to repair the damage? (Respond with a dollar amount)\n",
      "\n",
      "\n",
      "It would cost $1,000 to repair the damage.\n",
      "10011854463.4\n",
      "################################\n",
      "Consider the next situation and answer the question:\n",
      "Situation: A mysterious but very wealthy stranger arrives at Hank's doorstep with a strange request.  The stranger says that he will pay Hank a sum of money if Hank agrees to have something particular done to his property.  After that, the stranger will go away and nothing else will happen to Hank or his property.\n",
      "Action: Break all the windows in his house\n",
      "How much would it cost to repair the damage? (Respond with a dollar amount)\n",
      "\n",
      "\n",
      "It would cost $1,000 to repair the damage.\n",
      "47226.9\n",
      "################################\n",
      "Consider the next situation and answer the question:\n",
      "Situation: A mysterious but very wealthy stranger arrives at Hank's doorstep with a strange request.  The stranger says that he will pay Hank a sum of money if Hank agrees to have something particular done to his property.  After that, the stranger will go away and nothing else will happen to Hank or his property.\n",
      "Action: Paint the outside of his whole house blue\n",
      "How much would it cost to repair the damage? (Respond with a dollar amount)\n",
      "\n",
      "\n",
      "It would cost $1,000 to repair the damage.\n",
      "69249.4\n",
      "################################\n",
      "Consider the next situation and answer the question:\n",
      "Situation: A mysterious but very wealthy stranger arrives at Hank's doorstep with a strange request.  The stranger says that he will pay Hank a sum of money if Hank agrees to have something particular done to his property.  After that, the stranger will go away and nothing else will happen to Hank or his property.\n",
      "Action: Completely demolish his house\n",
      "How much would it cost to repair the damage? (Respond with a dollar amount)\n",
      "\n",
      "\n",
      "It would cost $100,000 to repair the damage.\n",
      "3958400.8\n",
      "################################\n"
     ]
    }
   ],
   "source": [
    "## best \n",
    "for i,d in blue_house.iterrows():\n",
    "    input_prompt=pre_prompt5+\"Action: \"+d['situation'].replace(\"neighbor's \",\"\")+\"\\nHow much would it cost to repair the damage? (Respond with a dollar amount)\"\n",
    "    completion = openai.Completion.create(engine=\"text-davinci-002\", prompt=input_prompt,temperature=0,max_tokens=50,logprobs=1)\n",
    "    print(input_prompt)\n",
    "    print(completion.choices[0].text)\n",
    "    blue_house.loc[i,'GPT3_response']=completion.choices[0].text\n",
    "    print(blue_house.loc[i,'feature2'])\n",
    "\n",
    "    print(\"################################\")"
   ]
  },
  {
   "cell_type": "code",
   "execution_count": 55,
   "id": "72702053",
   "metadata": {},
   "outputs": [],
   "source": [
    "blue_house['parsed_score']=blue_house.GPT3_response.str.extract('(\\d+[,\\d]*)')\n",
    "blue_house['parsed_score']=blue_house.parsed_score.replace(\",\",\"\",regex=True)"
   ]
  },
  {
   "cell_type": "code",
   "execution_count": 56,
   "id": "a2c6cbcf",
   "metadata": {},
   "outputs": [
    {
     "data": {
      "text/plain": [
       "100       5\n",
       "1000      3\n",
       "100000    1\n",
       "Name: parsed_score, dtype: int64"
      ]
     },
     "execution_count": 56,
     "metadata": {},
     "output_type": "execute_result"
    }
   ],
   "source": [
    "blue_house.parsed_score.value_counts()"
   ]
  },
  {
   "cell_type": "code",
   "execution_count": 57,
   "id": "55ee3432",
   "metadata": {},
   "outputs": [],
   "source": [
    "blue_house['parsed_score']=pd.to_numeric(blue_house['parsed_score'])"
   ]
  },
  {
   "cell_type": "code",
   "execution_count": 58,
   "id": "0a6c6304",
   "metadata": {},
   "outputs": [],
   "source": [
    "blue_house['parsed_score_log10']=blue_house.parsed_score.apply(np.log10)"
   ]
  },
  {
   "cell_type": "code",
   "execution_count": 59,
   "id": "958e7366",
   "metadata": {
    "scrolled": true
   },
   "outputs": [
    {
     "data": {
      "image/png": "[encoded data removed]",
      "text/plain": [
       "<Figure size 432x288 with 1 Axes>"
      ]
     },
     "metadata": {
      "needs_background": "light"
     },
     "output_type": "display_data"
    }
   ],
   "source": [
    "blue_house=blue_house.sort_values(['parsed_score_log10','feature2'])\n",
    "plt.bar(blue_house.context,blue_house.parsed_score_log10)\n",
    "plt.xticks(rotation=90)\n",
    "plt.title(\"How much would it cost to repair the damage?\")\n",
    "plt.ylabel(\"log10(cost)\")\n",
    "plt.show()"
   ]
  },
  {
   "cell_type": "markdown",
   "id": "ed9eadae",
   "metadata": {},
   "source": [
    "## Prompt option 3"
   ]
  },
  {
   "cell_type": "code",
   "execution_count": 69,
   "id": "a4f68657",
   "metadata": {},
   "outputs": [],
   "source": [
    "pre_prompt5=\"Consider the next situation and answer the question:\\nSituation: A stranger does the following to Hank's property.\\n\""
   ]
  },
  {
   "cell_type": "code",
   "execution_count": 70,
   "id": "7b598063",
   "metadata": {
    "scrolled": true
   },
   "outputs": [
    {
     "name": "stdout",
     "output_type": "stream",
     "text": [
      "Consider the next situation and answer the question:\n",
      "Situation: A stranger does the following to Hank's property.\n",
      "Action: Paint the outside of his front door blue\n",
      "How much would it cost to repair the damage? (Respond with a dollar amount)\n",
      "\n",
      "\n",
      "It would cost $100 to repair the damage.\n",
      "1611.0\n",
      "################################\n",
      "Consider the next situation and answer the question:\n",
      "Situation: A stranger does the following to Hank's property.\n",
      "Action: Paint the inside of his front door blue\n",
      "How much would it cost to repair the damage? (Respond with a dollar amount)\n",
      "\n",
      "\n",
      "It would cost about $100 to repair the damage.\n",
      "3070.45\n",
      "################################\n",
      "Consider the next situation and answer the question:\n",
      "Situation: A stranger does the following to Hank's property.\n",
      "Action: Completely demolish his house\n",
      "How much would it cost to repair the damage? (Respond with a dollar amount)\n",
      "\n",
      "\n",
      "It would cost $100,000 to repair the damage.\n",
      "3958400.8\n",
      "################################\n",
      "Consider the next situation and answer the question:\n",
      "Situation: A stranger does the following to Hank's property.\n",
      "Action: Paint his mailbox blue\n",
      "How much would it cost to repair the damage? (Respond with a dollar amount)\n",
      "\n",
      "\n",
      "It would cost about $30 to repair the damage.\n",
      "849.65\n",
      "################################\n",
      "Consider the next situation and answer the question:\n",
      "Situation: A stranger does the following to Hank's property.\n",
      "Action: Spill several gallons of bleach on his front lawn\n",
      "How much would it cost to repair the damage? (Respond with a dollar amount)\n",
      "\n",
      "\n",
      "It would cost about $200 to repair the damage.\n",
      "22348.9\n",
      "################################\n",
      "Consider the next situation and answer the question:\n",
      "Situation: A stranger does the following to Hank's property.\n",
      "Action: Break all the windows in his house\n",
      "How much would it cost to repair the damage? (Respond with a dollar amount)\n",
      "\n",
      "\n",
      "It would cost $600 to repair the damage.\n",
      "47226.9\n",
      "################################\n",
      "Consider the next situation and answer the question:\n",
      "Situation: A stranger does the following to Hank's property.\n",
      "Action: Paint the outside of his whole house blue\n",
      "How much would it cost to repair the damage? (Respond with a dollar amount)\n",
      "\n",
      "\n",
      "It would cost $1,000 to repair the damage.\n",
      "69249.4\n",
      "################################\n",
      "Consider the next situation and answer the question:\n",
      "Situation: A stranger does the following to Hank's property.\n",
      "Action: Smear dog poop all over his front step\n",
      "How much would it cost to repair the damage? (Respond with a dollar amount)\n",
      "\n",
      "\n",
      "It would cost about $100 to repair the damage.\n",
      "10026555.25\n",
      "################################\n",
      "Consider the next situation and answer the question:\n",
      "Situation: A stranger does the following to Hank's property.\n",
      "Action: Paint over a mural that his daughter painted\n",
      "How much would it cost to repair the damage? (Respond with a dollar amount)\n",
      "\n",
      "\n",
      "It would cost $100 to repair the damage.\n",
      "10011854463.4\n",
      "################################\n"
     ]
    }
   ],
   "source": [
    "## best \n",
    "for i,d in blue_house.iterrows():\n",
    "    input_prompt=pre_prompt5+\"Action: \"+d['situation'].replace(\"neighbor's \",\"\")+\"\\nHow much would it cost to repair the damage? (Respond with a dollar amount)\"\n",
    "    completion = openai.Completion.create(engine=\"text-davinci-002\", prompt=input_prompt,temperature=0,max_tokens=50,logprobs=1)\n",
    "    print(input_prompt)\n",
    "    print(completion.choices[0].text)\n",
    "    blue_house.loc[i,'GPT3_response']=completion.choices[0].text\n",
    "    print(blue_house.loc[i,'feature2'])\n",
    "\n",
    "    print(\"################################\")"
   ]
  },
  {
   "cell_type": "code",
   "execution_count": 71,
   "id": "8e9c70ae",
   "metadata": {},
   "outputs": [],
   "source": [
    "blue_house['parsed_score']=blue_house.GPT3_response.str.extract('(\\d+[,\\d]*)')\n",
    "blue_house['parsed_score']=blue_house.parsed_score.replace(\",\",\"\",regex=True)"
   ]
  },
  {
   "cell_type": "code",
   "execution_count": 72,
   "id": "ea32386e",
   "metadata": {},
   "outputs": [
    {
     "data": {
      "text/plain": [
       "100       4\n",
       "100000    1\n",
       "30        1\n",
       "200       1\n",
       "600       1\n",
       "1000      1\n",
       "Name: parsed_score, dtype: int64"
      ]
     },
     "execution_count": 72,
     "metadata": {},
     "output_type": "execute_result"
    }
   ],
   "source": [
    "blue_house.parsed_score.value_counts()"
   ]
  },
  {
   "cell_type": "code",
   "execution_count": 73,
   "id": "55ee3432",
   "metadata": {},
   "outputs": [],
   "source": [
    "blue_house['parsed_score']=pd.to_numeric(blue_house['parsed_score'])"
   ]
  },
  {
   "cell_type": "code",
   "execution_count": 74,
   "id": "2e8105c8",
   "metadata": {},
   "outputs": [],
   "source": [
    "blue_house['parsed_score_log10']=blue_house.parsed_score.apply(np.log10)"
   ]
  },
  {
   "cell_type": "code",
   "execution_count": 75,
   "id": "e8247bd8",
   "metadata": {
    "scrolled": true
   },
   "outputs": [
    {
     "data": {
      "image/png": "[encoded data removed]",
      "text/plain": [
       "<Figure size 432x288 with 1 Axes>"
      ]
     },
     "metadata": {
      "needs_background": "light"
     },
     "output_type": "display_data"
    }
   ],
   "source": [
    "blue_house=blue_house.sort_values(['parsed_score_log10','feature2'])\n",
    "plt.bar(blue_house.context,blue_house.parsed_score_log10)\n",
    "plt.xticks(rotation=90)\n",
    "plt.title(\"How much would it cost to repair the damage?\")\n",
    "plt.ylabel(\"log10(cost)\")\n",
    "plt.show()"
   ]
  },
  {
   "cell_type": "code",
   "execution_count": 25,
   "id": "0e143d3e",
   "metadata": {},
   "outputs": [
    {
     "data": {
      "text/html": [
       "<div>\n",
       "<style scoped>\n",
       "    .dataframe tbody tr th:only-of-type {\n",
       "        vertical-align: middle;\n",
       "    }\n",
       "\n",
       "    .dataframe tbody tr th {\n",
       "        vertical-align: top;\n",
       "    }\n",
       "\n",
       "    .dataframe thead th {\n",
       "        text-align: right;\n",
       "    }\n",
       "</style>\n",
       "<table border=\"1\" class=\"dataframe\">\n",
       "  <thead>\n",
       "    <tr style=\"text-align: right;\">\n",
       "      <th></th>\n",
       "      <th>context</th>\n",
       "      <th>study</th>\n",
       "      <th>feature2</th>\n",
       "      <th>situation</th>\n",
       "      <th>situation_2</th>\n",
       "      <th>GPT3_response</th>\n",
       "      <th>parsed_score</th>\n",
       "      <th>parsed_score_ln</th>\n",
       "    </tr>\n",
       "  </thead>\n",
       "  <tbody>\n",
       "    <tr>\n",
       "      <th>0</th>\n",
       "      <td>blueoutsidedoor</td>\n",
       "      <td>blue.house</td>\n",
       "      <td>1.611000e+03</td>\n",
       "      <td>Paint the outside of his neighbor's front door...</td>\n",
       "      <td>the outside of their front door was painted blue</td>\n",
       "      <td>\\n\\nIt would cost $100 to repair the damage.</td>\n",
       "      <td>100</td>\n",
       "      <td>4.605170</td>\n",
       "    </tr>\n",
       "    <tr>\n",
       "      <th>20</th>\n",
       "      <td>smearpoop</td>\n",
       "      <td>blue.house</td>\n",
       "      <td>1.002656e+07</td>\n",
       "      <td>Smear dog poop all over his neighbor's front step</td>\n",
       "      <td>dog poop was smeared all over their front step</td>\n",
       "      <td>\\n\\nIt would cost about $100 to repair the dam...</td>\n",
       "      <td>100</td>\n",
       "      <td>4.605170</td>\n",
       "    </tr>\n",
       "    <tr>\n",
       "      <th>25</th>\n",
       "      <td>bleachlawn</td>\n",
       "      <td>blue.house</td>\n",
       "      <td>2.234890e+04</td>\n",
       "      <td>Spill several gallons of bleach on his neighbo...</td>\n",
       "      <td>several gallons of bleach were spilled on thei...</td>\n",
       "      <td>\\n\\nIt would cost $100 to repair the damage.</td>\n",
       "      <td>100</td>\n",
       "      <td>4.605170</td>\n",
       "    </tr>\n",
       "    <tr>\n",
       "      <th>35</th>\n",
       "      <td>blueinsidedoor</td>\n",
       "      <td>blue.house</td>\n",
       "      <td>3.070450e+03</td>\n",
       "      <td>Paint the inside of his neighbor's front door ...</td>\n",
       "      <td>the inside of their front door was painted blue</td>\n",
       "      <td>\\n\\nIt would cost $100 to repair the damage.</td>\n",
       "      <td>100</td>\n",
       "      <td>4.605170</td>\n",
       "    </tr>\n",
       "    <tr>\n",
       "      <th>40</th>\n",
       "      <td>bluemailbox</td>\n",
       "      <td>blue.house</td>\n",
       "      <td>8.496500e+02</td>\n",
       "      <td>Paint his neighbor's mailbox blue</td>\n",
       "      <td>their mailbox was painted blue</td>\n",
       "      <td>\\n\\nIt would cost $100 to repair the damage.</td>\n",
       "      <td>100</td>\n",
       "      <td>4.605170</td>\n",
       "    </tr>\n",
       "    <tr>\n",
       "      <th>5</th>\n",
       "      <td>breakwindows</td>\n",
       "      <td>blue.house</td>\n",
       "      <td>4.722690e+04</td>\n",
       "      <td>Break all the windows in his neighbor's house</td>\n",
       "      <td>all the windows in their house were broken</td>\n",
       "      <td>\\n\\nIt would cost $1,000 to repair the damage.</td>\n",
       "      <td>1000</td>\n",
       "      <td>6.907755</td>\n",
       "    </tr>\n",
       "    <tr>\n",
       "      <th>10</th>\n",
       "      <td>erasemural</td>\n",
       "      <td>blue.house</td>\n",
       "      <td>1.001185e+10</td>\n",
       "      <td>Paint over a mural that his neighbor's daughte...</td>\n",
       "      <td>their daughter's mural was painted over</td>\n",
       "      <td>\\n\\nIt would cost $1,000 to repair the damage.</td>\n",
       "      <td>1000</td>\n",
       "      <td>6.907755</td>\n",
       "    </tr>\n",
       "    <tr>\n",
       "      <th>30</th>\n",
       "      <td>bluehouse</td>\n",
       "      <td>blue.house</td>\n",
       "      <td>6.924940e+04</td>\n",
       "      <td>Paint the outside of his neighbor's whole hous...</td>\n",
       "      <td>the outside of their whole house was painted blue</td>\n",
       "      <td>\\n\\nIt would cost $1,000 to repair the damage.</td>\n",
       "      <td>1000</td>\n",
       "      <td>6.907755</td>\n",
       "    </tr>\n",
       "    <tr>\n",
       "      <th>15</th>\n",
       "      <td>razehouse</td>\n",
       "      <td>blue.house</td>\n",
       "      <td>3.958401e+06</td>\n",
       "      <td>Completely demolish his neighbor's house</td>\n",
       "      <td>their house was completely demolished</td>\n",
       "      <td>\\n\\nIt would cost $100,000 to repair the damage.</td>\n",
       "      <td>100000</td>\n",
       "      <td>11.512925</td>\n",
       "    </tr>\n",
       "  </tbody>\n",
       "</table>\n",
       "</div>"
      ],
      "text/plain": [
       "            context       study      feature2  \\\n",
       "0   blueoutsidedoor  blue.house  1.611000e+03   \n",
       "20        smearpoop  blue.house  1.002656e+07   \n",
       "25       bleachlawn  blue.house  2.234890e+04   \n",
       "35   blueinsidedoor  blue.house  3.070450e+03   \n",
       "40      bluemailbox  blue.house  8.496500e+02   \n",
       "5      breakwindows  blue.house  4.722690e+04   \n",
       "10       erasemural  blue.house  1.001185e+10   \n",
       "30        bluehouse  blue.house  6.924940e+04   \n",
       "15        razehouse  blue.house  3.958401e+06   \n",
       "\n",
       "                                            situation  \\\n",
       "0   Paint the outside of his neighbor's front door...   \n",
       "20  Smear dog poop all over his neighbor's front step   \n",
       "25  Spill several gallons of bleach on his neighbo...   \n",
       "35  Paint the inside of his neighbor's front door ...   \n",
       "40                  Paint his neighbor's mailbox blue   \n",
       "5       Break all the windows in his neighbor's house   \n",
       "10  Paint over a mural that his neighbor's daughte...   \n",
       "30  Paint the outside of his neighbor's whole hous...   \n",
       "15           Completely demolish his neighbor's house   \n",
       "\n",
       "                                          situation_2  \\\n",
       "0    the outside of their front door was painted blue   \n",
       "20     dog poop was smeared all over their front step   \n",
       "25  several gallons of bleach were spilled on thei...   \n",
       "35    the inside of their front door was painted blue   \n",
       "40                     their mailbox was painted blue   \n",
       "5          all the windows in their house were broken   \n",
       "10            their daughter's mural was painted over   \n",
       "30  the outside of their whole house was painted blue   \n",
       "15              their house was completely demolished   \n",
       "\n",
       "                                        GPT3_response  parsed_score  \\\n",
       "0        \\n\\nIt would cost $100 to repair the damage.           100   \n",
       "20  \\n\\nIt would cost about $100 to repair the dam...           100   \n",
       "25       \\n\\nIt would cost $100 to repair the damage.           100   \n",
       "35       \\n\\nIt would cost $100 to repair the damage.           100   \n",
       "40       \\n\\nIt would cost $100 to repair the damage.           100   \n",
       "5      \\n\\nIt would cost $1,000 to repair the damage.          1000   \n",
       "10     \\n\\nIt would cost $1,000 to repair the damage.          1000   \n",
       "30     \\n\\nIt would cost $1,000 to repair the damage.          1000   \n",
       "15   \\n\\nIt would cost $100,000 to repair the damage.        100000   \n",
       "\n",
       "    parsed_score_ln  \n",
       "0          4.605170  \n",
       "20         4.605170  \n",
       "25         4.605170  \n",
       "35         4.605170  \n",
       "40         4.605170  \n",
       "5          6.907755  \n",
       "10         6.907755  \n",
       "30         6.907755  \n",
       "15        11.512925  "
      ]
     },
     "execution_count": 25,
     "metadata": {},
     "output_type": "execute_result"
    }
   ],
   "source": [
    "blue_house"
   ]
  },
  {
   "cell_type": "code",
   "execution_count": null,
   "id": "b06f8a42",
   "metadata": {},
   "outputs": [],
   "source": []
  }
 ],
 "metadata": {
  "kernelspec": {
   "display_name": "Python 3 (ipykernel)",
   "language": "python",
   "name": "python3"
  },
  "language_info": {
   "codemirror_mode": {
    "name": "ipython",
    "version": 3
   },
   "file_extension": ".py",
   "mimetype": "text/x-python",
   "name": "python",
   "nbconvert_exporter": "python",
   "pygments_lexer": "ipython3",
   "version": "3.7.11"
  }
 },
 "nbformat": 4,
 "nbformat_minor": 5
}
