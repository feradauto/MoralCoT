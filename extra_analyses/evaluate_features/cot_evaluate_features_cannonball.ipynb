{
 "cells": [
  {
   "cell_type": "markdown",
   "id": "0bba71f8",
   "metadata": {},
   "source": [
    "## Predict features' categories and evaluate performance (cannonball)"
   ]
  },
  {
   "cell_type": "code",
   "execution_count": 1,
   "id": "8955b472",
   "metadata": {},
   "outputs": [],
   "source": [
    "import os\n",
    "import openai\n",
    "import pandas as pd\n",
    "from sklearn.metrics import confusion_matrix,accuracy_score,ConfusionMatrixDisplay\n",
    "import sklearn\n",
    "from sklearn.metrics import mean_squared_error,mean_absolute_error,f1_score,classification_report\n",
    "import numpy as np\n",
    "import matplotlib.pyplot as plt\n",
    "import random\n",
    "openai.api_key = os.getenv(\"OPENAI_API_KEY\")"
   ]
  },
  {
   "cell_type": "markdown",
   "id": "3613e218",
   "metadata": {},
   "source": [
    "## Get predictions"
   ]
  },
  {
   "cell_type": "code",
   "execution_count": 2,
   "id": "20c984d0",
   "metadata": {},
   "outputs": [],
   "source": [
    "df=pd.read_csv(\"../../input_data/complete_file.csv\")\n",
    "\n",
    "\n",
    "preprompt=\"Consider this situation and answer the question that follows:\\nSituation:\"\n",
    "\n",
    "df=df.assign(statement=preprompt+df.scenario+\"\\nQuestion: \")\n",
    "\n",
    "df=df.loc[df.study=='cannonball',:].reset_index(drop=True)"
   ]
  },
  {
   "cell_type": "code",
   "execution_count": 3,
   "id": "fc8d7dbe",
   "metadata": {},
   "outputs": [],
   "source": [
    "compr=\"Why are the kids not allowed to cannonball into the pool?\"\n",
    "f1a=\"Will the kids in the art tent get distracted? Answer with one of the following: definitely no, maybe no, maybe yes, definitely yes.\"\n",
    "f1b=\"Will the art get ruined? Answer with one of the following: definitely no, maybe no, maybe yes, definitely yes.\"\n",
    "f2=\"How much did that help someone else? Answer with one of the following: not at all, a little, a lot, or a whole lot ?\"\n",
    "f3=\"How much did the kid need to do that? Answer with one of the following: not at all, a little, a lot, or a whole lot?\"\n",
    "final_q=\"Taking all of this into account, was it OK or not OK for the kid to cannonball into the pool? Explain your answer.\""
   ]
  },
  {
   "cell_type": "code",
   "execution_count": 4,
   "id": "7a14501d",
   "metadata": {},
   "outputs": [],
   "source": [
    "df=df.assign(feat2_cat=np.where(df.feature2<=0.1,\"1. not at all\",\n",
    "                                        np.where(df.feature2<=0.2,\"2. a little\",\n",
    "                                        np.where(df.feature2<=0.3,\"3. a lot\",\"4. a whole lot\"))))\n",
    "df=df.assign(feat3_cat=np.where(df.feature3<=0.1,\"1. not at all\",\n",
    "                                        np.where(df.feature3<=0.2,\"2. a little\",\n",
    "                                        np.where(df.feature3<=0.3,\"3. a lot\",\"4. a whole lot\"))))\n",
    "df=df.assign(feat1_cat=np.where(df.feature1<=0.2,\"1. definitely no\",\n",
    "                                        np.where(df.feature1<=0.4,\"2. maybe no\",\n",
    "                                        np.where(df.feature1<=0.6,\"3. maybe yes\",\"4. definitely yes\"))))"
   ]
  },
  {
   "cell_type": "code",
   "execution_count": 5,
   "id": "4eb138cd",
   "metadata": {
    "scrolled": true
   },
   "outputs": [],
   "source": [
    "for i,d in df.iterrows():\n",
    "    input_prompt=d['statement']+f2\n",
    "    completion = openai.Completion.create(engine=\"text-davinci-002\", prompt=input_prompt,temperature=0,max_tokens=60)\n",
    "    df.loc[i,'first_response']=completion.choices[0].text\n",
    "    \n",
    "    input_2=d['statement']+\"\\nQuestion: \"+f3+\"\\n\"\n",
    "    second_response = openai.Completion.create(engine=\"text-davinci-002\", prompt=input_2,temperature=0,max_tokens=60)\n",
    "    df.loc[i,'second_response']=second_response.choices[0].text\n",
    "    if d['condition']=='noise':\n",
    "        f1=f1a\n",
    "    else:\n",
    "        f1=f1b\n",
    "    input_3=d['statement']+\"\\nQuestion: \"+f1+\"\\n\"\n",
    "    third_response = openai.Completion.create(engine=\"text-davinci-002\", prompt=input_3,temperature=0,max_tokens=60)\n",
    "    df.loc[i,'third_response']=third_response.choices[0].text\n",
    "\n",
    "    resp_final=df.loc[i,'third_response']"
   ]
  },
  {
   "cell_type": "markdown",
   "id": "69d49a27",
   "metadata": {},
   "source": [
    "## Assign categories"
   ]
  },
  {
   "cell_type": "code",
   "execution_count": 6,
   "id": "0557675d",
   "metadata": {},
   "outputs": [],
   "source": [
    "df=df.assign(predf2=\n",
    "    np.where(df.first_response.str.lower().str.contains('at all'),'1. not at all',\n",
    "    np.where(df.first_response.str.lower().str.contains('a little'),'2. a little',\n",
    "    np.where(df.first_response.str.lower().str.contains('a lot'),'3. a lot',\n",
    "    np.where(df.first_response.str.lower().str.contains('a whole lot'),'4. a whole lot',\"None\")))))\n",
    "\n",
    "df=df.assign(predf3=\n",
    "    np.where(df.second_response.str.lower().str.contains('at all'),'1. not at all',\n",
    "    np.where(df.second_response.str.lower().str.contains('a little'),'2. a little',\n",
    "    np.where(df.second_response.str.lower().str.contains('a lot'),'3. a lot',\n",
    "    np.where(df.second_response.str.lower().str.contains('a whole lot'),'4. a whole lot',\"None\")))))\n",
    "\n",
    "df=df.assign(predf1=\n",
    "    np.where(df.third_response.str.lower().str.contains('definitely no'),'1. definitely no',\n",
    "    np.where(df.third_response.str.lower().str.contains('maybe no'),'2. maybe no',\n",
    "    np.where(df.third_response.str.lower().str.contains('maybe yes'),'3. maybe yes',\n",
    "    np.where(df.third_response.str.lower().str.contains('definitely yes'),'4. definitely yes',\"None\")))))\n",
    "\n",
    "## numeric\n",
    "df=df.assign(gpt_feature2=\n",
    "    np.where(df.first_response.str.lower().str.contains('at all'),4,\n",
    "    np.where(df.first_response.str.lower().str.contains('a little'),3,\n",
    "    np.where(df.first_response.str.lower().str.contains('a lot'),2,\n",
    "    np.where(df.first_response.str.lower().str.contains('a whole lot'),1,None)))))\n",
    "\n",
    "df=df.assign(gpt_feature3=\n",
    "    np.where(df.second_response.str.lower().str.contains('at all'),4,\n",
    "    np.where(df.second_response.str.lower().str.contains('a little'),3,\n",
    "    np.where(df.second_response.str.lower().str.contains('a lot'),2,\n",
    "    np.where(df.second_response.str.lower().str.contains('a whole lot'),1,None)))))\n",
    "\n",
    "df=df.assign(gpt_feature1=\n",
    "    np.where(df.third_response.str.lower().str.contains('definitely no'),4,\n",
    "    np.where(df.third_response.str.lower().str.contains('maybe no'),3,\n",
    "    np.where(df.third_response.str.lower().str.contains('maybe yes'),2,\n",
    "    np.where(df.third_response.str.lower().str.contains('definitely yes'),1,None)))))\n"
   ]
  },
  {
   "cell_type": "markdown",
   "id": "db3afb74",
   "metadata": {},
   "source": [
    "## Assign random features"
   ]
  },
  {
   "cell_type": "code",
   "execution_count": 7,
   "id": "8d288506",
   "metadata": {},
   "outputs": [],
   "source": [
    "random.seed(0)\n",
    "\n",
    "l = [random.randint(0,3) for i in range(df.shape[0])]\n",
    "\n",
    "df=df.assign(feat2_rand=l)\n",
    "\n",
    "df=df.assign(feat2_rands=\n",
    "    np.where(df.feat2_rand==0,'1. not at all',\n",
    "    np.where(df.feat2_rand==1,'2. a little',\n",
    "    np.where(df.feat2_rand==2,'3. a lot',\n",
    "    np.where(df.feat2_rand==3,'4. a whole lot',\"None\")))))\n",
    "\n",
    "l = [random.randint(0,3) for i in range(df.shape[0])]\n",
    "\n",
    "df=df.assign(feat3_rand=l)\n",
    "\n",
    "df=df.assign(feat3_rands=\n",
    "    np.where(df.feat3_rand==0,'1. not at all',\n",
    "    np.where(df.feat3_rand==1,'2. a little',\n",
    "    np.where(df.feat3_rand==2,'3. a lot',\n",
    "    np.where(df.feat3_rand==3,'4. a whole lot',\"None\")))))\n",
    "\n",
    "l = [random.randint(0,3) for i in range(df.shape[0])]\n",
    "\n",
    "df=df.assign(feat1_rand=l)\n",
    "\n",
    "df=df.assign(feat1_rands=\n",
    "    np.where(df.feat1_rand==0,'1. definitely no',\n",
    "    np.where(df.feat1_rand==1,'2. maybe no',\n",
    "    np.where(df.feat1_rand==2,'3. maybe yes',\n",
    "    np.where(df.feat1_rand==3,'4. definitely yes',\"None\")))))"
   ]
  },
  {
   "cell_type": "markdown",
   "id": "5dc203c9",
   "metadata": {},
   "source": [
    "## Evaluate"
   ]
  },
  {
   "cell_type": "markdown",
   "id": "14e772ef",
   "metadata": {},
   "source": [
    "### Feature 2"
   ]
  },
  {
   "cell_type": "code",
   "execution_count": 8,
   "id": "17e313e1",
   "metadata": {
    "scrolled": true
   },
   "outputs": [
    {
     "data": {
      "image/png": "[encoded data removed]",
      "text/plain": [
       "<Figure size 720x720 with 2 Axes>"
      ]
     },
     "metadata": {
      "needs_background": "light"
     },
     "output_type": "display_data"
    }
   ],
   "source": [
    "fig, ax = plt.subplots(figsize=(10,10))\n",
    "ConfusionMatrixDisplay.from_predictions(df.feat2_cat,df.predf2,ax=ax)\n",
    "plt.title(\"How much did that help someone else?\")\n",
    "plt.show()"
   ]
  },
  {
   "cell_type": "code",
   "execution_count": 9,
   "id": "af72108e",
   "metadata": {
    "scrolled": true
   },
   "outputs": [
    {
     "name": "stdout",
     "output_type": "stream",
     "text": [
      "Features prediction\n",
      "F1:  65.72\n",
      "Accuracy:  71.43\n"
     ]
    },
    {
     "name": "stderr",
     "output_type": "stream",
     "text": [
      "/home/feradauto/miniconda3/envs/scirex/lib/python3.7/site-packages/sklearn/metrics/_classification.py:1308: UndefinedMetricWarning: Precision and F-score are ill-defined and being set to 0.0 in labels with no predicted samples. Use `zero_division` parameter to control this behavior.\n",
      "  _warn_prf(average, modifier, msg_start, len(result))\n",
      "/home/feradauto/miniconda3/envs/scirex/lib/python3.7/site-packages/sklearn/metrics/_classification.py:1308: UndefinedMetricWarning: Precision and F-score are ill-defined and being set to 0.0 in labels with no predicted samples. Use `zero_division` parameter to control this behavior.\n",
      "  _warn_prf(average, modifier, msg_start, len(result))\n",
      "/home/feradauto/miniconda3/envs/scirex/lib/python3.7/site-packages/sklearn/metrics/_classification.py:1308: UndefinedMetricWarning: Precision and F-score are ill-defined and being set to 0.0 in labels with no predicted samples. Use `zero_division` parameter to control this behavior.\n",
      "  _warn_prf(average, modifier, msg_start, len(result))\n"
     ]
    }
   ],
   "source": [
    "gen=classification_report(df.feat2_cat,df.predf2,digits=4,output_dict=True)\n",
    "\n",
    "f1w=\"{0:.2f}\".format(100*gen['weighted avg']['f1-score'])\n",
    "accuracy=\"{0:.2f}\".format(100*gen['accuracy'])\n",
    "\n",
    "print(\"Features prediction\")\n",
    "print(\"F1: \",f1w)\n",
    "print(\"Accuracy: \",accuracy)"
   ]
  },
  {
   "cell_type": "code",
   "execution_count": 10,
   "id": "9c81d79d",
   "metadata": {},
   "outputs": [
    {
     "name": "stdout",
     "output_type": "stream",
     "text": [
      "Random prediction\n",
      "F1:  25.70\n",
      "Accuracy:  25.00\n"
     ]
    }
   ],
   "source": [
    "gen=classification_report(df.feat2_cat,df.feat2_rands,digits=4,output_dict=True)\n",
    "\n",
    "f1w=\"{0:.2f}\".format(100*gen['weighted avg']['f1-score'])\n",
    "accuracy=\"{0:.2f}\".format(100*gen['accuracy'])\n",
    "print(\"Random prediction\")\n",
    "print(\"F1: \",f1w)\n",
    "print(\"Accuracy: \",accuracy)"
   ]
  },
  {
   "cell_type": "markdown",
   "id": "70807b85",
   "metadata": {},
   "source": [
    "### Feature 3"
   ]
  },
  {
   "cell_type": "code",
   "execution_count": 11,
   "id": "424a4fad",
   "metadata": {},
   "outputs": [
    {
     "data": {
      "image/png": "[encoded data removed]",
      "text/plain": [
       "<Figure size 720x720 with 2 Axes>"
      ]
     },
     "metadata": {
      "needs_background": "light"
     },
     "output_type": "display_data"
    }
   ],
   "source": [
    "fig, ax = plt.subplots(figsize=(10,10))\n",
    "ConfusionMatrixDisplay.from_predictions(df.feat3_cat,df.predf3,ax=ax)\n",
    "plt.title(\"How much did the kid need to do that?\")\n",
    "plt.show()"
   ]
  },
  {
   "cell_type": "code",
   "execution_count": 12,
   "id": "2b00584b",
   "metadata": {},
   "outputs": [
    {
     "name": "stdout",
     "output_type": "stream",
     "text": [
      "Features prediction\n",
      "F1:  8.12\n",
      "Accuracy:  14.29\n"
     ]
    }
   ],
   "source": [
    "gen=classification_report(df.feat3_cat,df.predf3,digits=4,output_dict=True)\n",
    "\n",
    "f1w=\"{0:.2f}\".format(100*gen['weighted avg']['f1-score'])\n",
    "accuracy=\"{0:.2f}\".format(100*gen['accuracy'])\n",
    "\n",
    "print(\"Features prediction\")\n",
    "print(\"F1: \",f1w)\n",
    "print(\"Accuracy: \",accuracy)"
   ]
  },
  {
   "cell_type": "code",
   "execution_count": 13,
   "id": "e0bcb417",
   "metadata": {},
   "outputs": [
    {
     "name": "stdout",
     "output_type": "stream",
     "text": [
      "Random prediction\n",
      "F1:  25.96\n",
      "Accuracy:  25.00\n"
     ]
    }
   ],
   "source": [
    "gen=classification_report(df.feat3_cat,df.feat3_rands,digits=4,output_dict=True)\n",
    "\n",
    "f1w=\"{0:.2f}\".format(100*gen['weighted avg']['f1-score'])\n",
    "accuracy=\"{0:.2f}\".format(100*gen['accuracy'])\n",
    "\n",
    "print(\"Random prediction\")\n",
    "print(\"F1: \",f1w)\n",
    "print(\"Accuracy: \",accuracy)"
   ]
  },
  {
   "cell_type": "markdown",
   "id": "f16b8428",
   "metadata": {},
   "source": [
    "### Feature 1"
   ]
  },
  {
   "cell_type": "code",
   "execution_count": 14,
   "id": "1b6951bf",
   "metadata": {},
   "outputs": [
    {
     "data": {
      "image/png": "[encoded data removed]",
      "text/plain": [
       "<Figure size 720x720 with 2 Axes>"
      ]
     },
     "metadata": {
      "needs_background": "light"
     },
     "output_type": "display_data"
    }
   ],
   "source": [
    "fig, ax = plt.subplots(figsize=(10,10))\n",
    "ConfusionMatrixDisplay.from_predictions(df.feat1_cat,df.predf1,ax=ax)\n",
    "plt.title(\"Will the kids in the art tent get distracted?\")\n",
    "plt.show()"
   ]
  },
  {
   "cell_type": "code",
   "execution_count": 15,
   "id": "9d11f078",
   "metadata": {},
   "outputs": [
    {
     "name": "stdout",
     "output_type": "stream",
     "text": [
      "Features prediction\n",
      "F1:  44.22\n",
      "Accuracy:  50.00\n"
     ]
    },
    {
     "name": "stderr",
     "output_type": "stream",
     "text": [
      "/home/feradauto/miniconda3/envs/scirex/lib/python3.7/site-packages/sklearn/metrics/_classification.py:1308: UndefinedMetricWarning: Precision and F-score are ill-defined and being set to 0.0 in labels with no predicted samples. Use `zero_division` parameter to control this behavior.\n",
      "  _warn_prf(average, modifier, msg_start, len(result))\n",
      "/home/feradauto/miniconda3/envs/scirex/lib/python3.7/site-packages/sklearn/metrics/_classification.py:1308: UndefinedMetricWarning: Precision and F-score are ill-defined and being set to 0.0 in labels with no predicted samples. Use `zero_division` parameter to control this behavior.\n",
      "  _warn_prf(average, modifier, msg_start, len(result))\n",
      "/home/feradauto/miniconda3/envs/scirex/lib/python3.7/site-packages/sklearn/metrics/_classification.py:1308: UndefinedMetricWarning: Precision and F-score are ill-defined and being set to 0.0 in labels with no predicted samples. Use `zero_division` parameter to control this behavior.\n",
      "  _warn_prf(average, modifier, msg_start, len(result))\n"
     ]
    }
   ],
   "source": [
    "gen=classification_report(df.feat1_cat,df.predf1,digits=4,output_dict=True)\n",
    "\n",
    "f1w=\"{0:.2f}\".format(100*gen['weighted avg']['f1-score'])\n",
    "accuracy=\"{0:.2f}\".format(100*gen['accuracy'])\n",
    "\n",
    "print(\"Features prediction\")\n",
    "print(\"F1: \",f1w)\n",
    "print(\"Accuracy: \",accuracy)"
   ]
  },
  {
   "cell_type": "code",
   "execution_count": 16,
   "id": "096d66eb",
   "metadata": {},
   "outputs": [
    {
     "name": "stdout",
     "output_type": "stream",
     "text": [
      "Random prediction\n",
      "F1:  35.36\n",
      "Accuracy:  32.14\n"
     ]
    }
   ],
   "source": [
    "gen=classification_report(df.feat1_cat,df.feat1_rands,digits=4,output_dict=True)\n",
    "\n",
    "f1w=\"{0:.2f}\".format(100*gen['weighted avg']['f1-score'])\n",
    "accuracy=\"{0:.2f}\".format(100*gen['accuracy'])\n",
    "\n",
    "print(\"Random prediction\")\n",
    "print(\"F1: \",f1w)\n",
    "print(\"Accuracy: \",accuracy)"
   ]
  },
  {
   "cell_type": "code",
   "execution_count": 17,
   "id": "dafa601f",
   "metadata": {},
   "outputs": [],
   "source": [
    "df.to_csv(\"../../outputs/analysis/features/cannonball_featues.csv\",index=False)"
   ]
  },
  {
   "cell_type": "code",
   "execution_count": null,
   "id": "b1cf2e6c",
   "metadata": {},
   "outputs": [],
   "source": [
    "\n",
    "#cannonball=df.loc[:,['context', 'condition', 'study', 'human.response', 'feature1','gpt_feature1',\n",
    "#       'feature2', 'gpt_feature2','feature3', 'gpt_feature3','feature1b', 'feature1c', 'prompt',\n",
    "#       'prompt_short', 'prompt_long']]\n",
    "\n",
    "\n",
    "#cannonball.to_csv(\"./cannonball_features_categorical.csv\",index=False)"
   ]
  },
  {
   "cell_type": "code",
   "execution_count": null,
   "id": "d3cb5bb0",
   "metadata": {},
   "outputs": [],
   "source": []
  }
 ],
 "metadata": {
  "kernelspec": {
   "display_name": "Python 3 (ipykernel)",
   "language": "python",
   "name": "python3"
  },
  "language_info": {
   "codemirror_mode": {
    "name": "ipython",
    "version": 3
   },
   "file_extension": ".py",
   "mimetype": "text/x-python",
   "name": "python",
   "nbconvert_exporter": "python",
   "pygments_lexer": "ipython3",
   "version": "3.7.11"
  }
 },
 "nbformat": 4,
 "nbformat_minor": 5
}
