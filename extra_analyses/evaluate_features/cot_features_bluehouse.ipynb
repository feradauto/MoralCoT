{
 "cells": [
  {
   "cell_type": "markdown",
   "id": "cd92d956",
   "metadata": {},
   "source": [
    "## Predict features' categories and evaluate performance (bluehouse)"
   ]
  },
  {
   "cell_type": "code",
   "execution_count": 1,
   "id": "8955b472",
   "metadata": {},
   "outputs": [],
   "source": [
    "import os\n",
    "import openai\n",
    "import pandas as pd\n",
    "from sklearn.metrics import confusion_matrix,accuracy_score,ConfusionMatrixDisplay\n",
    "import sklearn\n",
    "from sklearn.metrics import mean_squared_error,mean_absolute_error,f1_score,classification_report\n",
    "import numpy as np\n",
    "import matplotlib.pyplot as plt\n",
    "import random\n",
    "openai.api_key = os.getenv(\"OPENAI_API_KEY\")"
   ]
  },
  {
   "cell_type": "markdown",
   "id": "ed4002ad",
   "metadata": {},
   "source": [
    "## Get predictions"
   ]
  },
  {
   "cell_type": "code",
   "execution_count": 2,
   "id": "0cb69d30",
   "metadata": {},
   "outputs": [],
   "source": [
    "df=pd.read_csv(\"../../input_data/complete_file.csv\")\n",
    "\n",
    "\n",
    "preprompt=\"Consider this situation and answer the question that follows:\\nSituation: \"\n",
    "\n",
    "df=df.assign(statement=preprompt+df.scenario+\"\\nQuestion: \")\n",
    "\n",
    "df=df.loc[(df.study=='blue.house') ,:].reset_index(drop=True)"
   ]
  },
  {
   "cell_type": "code",
   "execution_count": 3,
   "id": "fc8d7dbe",
   "metadata": {},
   "outputs": [],
   "source": [
    "compr=\"How much would it cost to reverse this damage? (Respond with a dollar amount.)\"\n",
    "f3=\"How much money will Hank get from the stranger?\"\n"
   ]
  },
  {
   "cell_type": "code",
   "execution_count": 4,
   "id": "4eb138cd",
   "metadata": {
    "scrolled": true
   },
   "outputs": [],
   "source": [
    "for i,d in df.iterrows():\n",
    "    input_prompt=d['statement']+compr\n",
    "    completion = openai.Completion.create(engine=\"text-davinci-002\", prompt=input_prompt,temperature=0,max_tokens=60)\n",
    "    \n",
    "    df.loc[i,'first_response']=completion.choices[0].text\n",
    "    input_2=input_prompt+completion.choices[0].text+\"\\nQuestion: \"+f3+\"\\n\"\n",
    "    second_response = openai.Completion.create(engine=\"text-davinci-002\", prompt=input_2,temperature=0,max_tokens=60)\n",
    "    df.loc[i,'second_response']=second_response.choices[0].text\n"
   ]
  },
  {
   "cell_type": "code",
   "execution_count": 5,
   "id": "cd62b8ed",
   "metadata": {},
   "outputs": [],
   "source": [
    "blue_house=df.copy()"
   ]
  },
  {
   "cell_type": "code",
   "execution_count": 6,
   "id": "8e9c70ae",
   "metadata": {},
   "outputs": [],
   "source": [
    "blue_house['gpt_feature2']=blue_house.first_response\n",
    "blue_house.gpt_feature2=blue_house.gpt_feature2.replace(\"It would cost around one hundred and fifty dollars\",\"150\",regex=True)\n",
    "blue_house.gpt_feature2=blue_house.gpt_feature2.replace(\"It would cost around one hundred dollars\",\"100\",regex=True)\n",
    "blue_house['gpt_feature2']=blue_house.gpt_feature2.str.extract('(\\d+[,\\d]*)')\n",
    "blue_house['gpt_feature2']=blue_house.gpt_feature2.replace(\",\",\"\",regex=True)"
   ]
  },
  {
   "cell_type": "code",
   "execution_count": 7,
   "id": "ea32386e",
   "metadata": {
    "scrolled": true
   },
   "outputs": [
    {
     "data": {
      "text/plain": [
       "100        27\n",
       "1000        8\n",
       "100000      7\n",
       "10000       4\n",
       "1000000     4\n",
       "0           3\n",
       "80          1\n",
       "Name: gpt_feature2, dtype: int64"
      ]
     },
     "execution_count": 7,
     "metadata": {},
     "output_type": "execute_result"
    }
   ],
   "source": [
    "blue_house.gpt_feature2.value_counts()"
   ]
  },
  {
   "cell_type": "code",
   "execution_count": 8,
   "id": "55ee3432",
   "metadata": {},
   "outputs": [],
   "source": [
    "blue_house['gpt_feature2']=pd.to_numeric(blue_house['gpt_feature2'])\n",
    "\n",
    "blue_house['gpt_feature3']=blue_house.second_response\n",
    "blue_house.gpt_feature3=blue_house.gpt_feature3.replace(\"Hank will get one hundred dollars from the stranger\",\"100\",regex=True)\n",
    "blue_house.gpt_feature3=blue_house.gpt_feature3.replace(\"Hank will get one hundred thousand dollars from the stranger\",\"100000\",regex=True)\n",
    "blue_house.gpt_feature3=blue_house.gpt_feature3.replace(\"Hank will get ten thousand dollars from the stranger\",\"10000\",regex=True)\n",
    "blue_house.gpt_feature3=blue_house.gpt_feature3.replace(\"Hank will get one thousand dollars from the stranger\",\"1000\",regex=True)\n",
    "blue_house['gpt_feature3']=blue_house.gpt_feature3.str.extract('(\\d+[,\\d]*)')\n",
    "blue_house['gpt_feature3']=blue_house.gpt_feature3.replace(\",\",\"\",regex=True)\n",
    "\n",
    "blue_house['gpt_feature3']=pd.to_numeric(blue_house['gpt_feature3'])"
   ]
  },
  {
   "cell_type": "code",
   "execution_count": 9,
   "id": "70591771",
   "metadata": {
    "scrolled": true
   },
   "outputs": [
    {
     "data": {
      "text/plain": [
       "1000.0       14\n",
       "100.0        12\n",
       "100000.0      9\n",
       "10000.0       9\n",
       "1000000.0     7\n",
       "Name: gpt_feature3, dtype: int64"
      ]
     },
     "execution_count": 9,
     "metadata": {},
     "output_type": "execute_result"
    }
   ],
   "source": [
    "blue_house.gpt_feature3.value_counts()"
   ]
  },
  {
   "cell_type": "code",
   "execution_count": 10,
   "id": "6f4742a2",
   "metadata": {},
   "outputs": [],
   "source": [
    "blue_house.to_csv(\"../../outputs/analysis/features/bluehouse_features.csv\")"
   ]
  },
  {
   "cell_type": "code",
   "execution_count": 84,
   "id": "244d034c",
   "metadata": {},
   "outputs": [],
   "source": [
    "#blue=blue_house.loc[:,['context', 'condition', 'study', 'human.response', 'feature1',\n",
    "#       'feature2', 'gpt_feature2','feature3', 'gpt_feature3','feature1b', 'feature1c', 'prompt',\n",
    "#       'prompt_short', 'prompt_long','first_response']]\n",
    "\n",
    "#blue.to_csv(\"./bluehouse_features_categorical1.csv\",index=False)"
   ]
  },
  {
   "cell_type": "code",
   "execution_count": null,
   "id": "5d5f2b61",
   "metadata": {},
   "outputs": [],
   "source": []
  }
 ],
 "metadata": {
  "kernelspec": {
   "display_name": "Python 3 (ipykernel)",
   "language": "python",
   "name": "python3"
  },
  "language_info": {
   "codemirror_mode": {
    "name": "ipython",
    "version": 3
   },
   "file_extension": ".py",
   "mimetype": "text/x-python",
   "name": "python",
   "nbconvert_exporter": "python",
   "pygments_lexer": "ipython3",
   "version": "3.7.11"
  }
 },
 "nbformat": 4,
 "nbformat_minor": 5
}
