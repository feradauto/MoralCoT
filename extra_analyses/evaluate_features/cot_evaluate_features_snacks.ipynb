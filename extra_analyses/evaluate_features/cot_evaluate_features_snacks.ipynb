{
 "cells": [
  {
   "cell_type": "markdown",
   "id": "f5d76578",
   "metadata": {},
   "source": [
    "## Predict features' categories and evaluate performance (snack lines)"
   ]
  },
  {
   "cell_type": "code",
   "execution_count": 1,
   "id": "8955b472",
   "metadata": {},
   "outputs": [],
   "source": [
    "import os\n",
    "import openai\n",
    "import pandas as pd\n",
    "from sklearn.metrics import confusion_matrix,accuracy_score,ConfusionMatrixDisplay\n",
    "import sklearn\n",
    "from sklearn.metrics import mean_squared_error,mean_absolute_error,f1_score,classification_report\n",
    "import numpy as np\n",
    "import matplotlib.pyplot as plt\n",
    "import random\n",
    "openai.api_key = os.getenv(\"OPENAI_API_KEY\")"
   ]
  },
  {
   "cell_type": "markdown",
   "id": "f4b308ef",
   "metadata": {},
   "source": [
    "## Get predictions"
   ]
  },
  {
   "cell_type": "code",
   "execution_count": 2,
   "id": "20c984d0",
   "metadata": {},
   "outputs": [],
   "source": [
    "df=pd.read_csv(\"../../input_data/complete_file.csv\")\n",
    "\n",
    "\n",
    "preprompt=\"Consider this situation and answer the question that follows:\\nSituation: \"\n",
    "\n",
    "df=df.assign(statement=preprompt+df.scenario+\"\\nQuestion: \")\n",
    "\n",
    "df=df.loc[(df.study=='lines') & (df.condition.isin(['adult','snack2'])),:].reset_index(drop=True)"
   ]
  },
  {
   "cell_type": "code",
   "execution_count": 3,
   "id": "c989b973",
   "metadata": {},
   "outputs": [],
   "source": [
    "f2=\"How much longer will the kid in the front of the line have to wait if this kid cuts?  Answer with one of the following: same amount of time, a little longer, a lot longer.\"\n",
    "f3=\"If she doesn't cut in line, how bad will things be for her? Answer with one of the following: she’ll be fine, a little bad for her, really bad for her\"\n",
    "f1a=\"Does this kid want to cut the line to get a snack or for some other reason? Answer with one of the following: get a snack, or some other reason.\"\n",
    "f1b=\"Has this person already waited the appropriate amount of time in line to get their snack? Answer with one of the following: they have waited the appropriate amount of time, they have waited a little less than they should have, or they haven’t waited at all.\"\n",
    "f1c=\"Compared to the snack that the other kids got, how good is what this kid got? Answer with one of the following: much worse, worse, or the same.\""
   ]
  },
  {
   "cell_type": "code",
   "execution_count": 4,
   "id": "004e5dc2",
   "metadata": {},
   "outputs": [],
   "source": [
    "df=df.assign(feat2_cat=np.where(df.feature2<=3,\"1. same amount of time\",\n",
    "                                        np.where(df.feature2<=5,\"2. a little longer\",\"3. a lot longer\")))\n",
    "df=df.assign(feat3_cat=np.where(df.feature3<=3,\"1. she'll be fine\",\n",
    "                                        np.where(df.feature3<=5,\"2. a little bad\",\"3. really bad\")))\n",
    "df=df.assign(feat1b_cat=np.where(df.feature1b>=1,\"1. appropriate\",\n",
    "                                        np.where(df.feature1b==-2,\"2. less\",\"3. haven’t waited\")))\n",
    "df=df.assign(feat1c_cat=np.where(df.feature1c<=-1,\"1. much worse\",\n",
    "                                        np.where(df.feature1c<=1,\"2. worse\",\"3. the same\")))"
   ]
  },
  {
   "cell_type": "code",
   "execution_count": 5,
   "id": "4eb138cd",
   "metadata": {
    "scrolled": true
   },
   "outputs": [],
   "source": [
    "for i,d in df.iterrows():\n",
    "    input_prompt=d['statement']+f2\n",
    "    completion = openai.Completion.create(engine=\"text-davinci-002\", prompt=input_prompt,temperature=0,max_tokens=60)\n",
    "    df.loc[i,'first_response']=completion.choices[0].text\n",
    "\n",
    "    \n",
    "    \n",
    "    input_2=d['statement']+\"\\nQuestion: \"+f3+\"\\n\"\n",
    "    second_response = openai.Completion.create(engine=\"text-davinci-002\", prompt=input_2,temperature=0,max_tokens=60)\n",
    "    df.loc[i,'second_response']=second_response.choices[0].text\n",
    "\n",
    "    input_3=d['statement']+\"\\nQuestion: \"+f1b+\"\\n\"\n",
    "    third_response = openai.Completion.create(engine=\"text-davinci-002\", prompt=input_3,temperature=0,max_tokens=60)\n",
    "    df.loc[i,'third_response']=third_response.choices[0].text\n",
    "    input_final=input_3\n",
    "    resp_final=df.loc[i,'third_response']\n",
    "\n",
    "    \n",
    "    \n",
    "    input_4=d['statement']+\"\\nQuestion: \"+f1c+\"\\n\"\n",
    "    fourth_response = openai.Completion.create(engine=\"text-davinci-002\", prompt=input_4,temperature=0,max_tokens=60)\n",
    "    df.loc[i,'fourth_response']=fourth_response.choices[0].text\n",
    "    input_final=input_4\n",
    "    resp_final=df.loc[i,'fourth_response']"
   ]
  },
  {
   "cell_type": "markdown",
   "id": "4762bb01",
   "metadata": {},
   "source": [
    "## Assign categories"
   ]
  },
  {
   "cell_type": "code",
   "execution_count": 6,
   "id": "cfff9a24",
   "metadata": {},
   "outputs": [],
   "source": [
    "df=df.assign(predf2=\n",
    "    np.where(df.first_response.str.lower().str.contains('a lot longer'),'3. a lot longer',\n",
    "    np.where(df.first_response.str.lower().str.contains('a little longer'),'2. a little longer',\n",
    "    np.where(df.first_response.str.lower().str.contains('same amount of time'),\n",
    "             '1. same amount of time',\"None\"))))\n",
    "\n",
    "df=df.assign(predf3=\n",
    "    np.where(df.second_response.str.lower().str.contains(\"fine\"),\"1. she'll be fine\",\n",
    "    np.where(df.second_response.str.lower().str.contains('little bad'),'2. a little bad',\n",
    "    np.where(df.second_response.str.lower().str.contains('really bad'),\n",
    "             '3. really bad',\"None\"))))\n",
    "\n",
    "df=df.assign(predf1b=\n",
    "    np.where(df.third_response.str.lower().str.contains(\"appropriate\"),\"1. appropriate\",\n",
    "    np.where(df.third_response.str.lower().str.contains('less'),'2. less',\n",
    "    np.where(df.third_response.str.lower().str.contains(\"haven’t waited|has not waited\"),\n",
    "             \"3. haven’t waited\",\"None\"))))\n",
    "\n",
    "df=df.assign(predf1c=\n",
    "    np.where(df.fourth_response.str.lower().str.contains(\"much worse\"),\"1. much worse\",\n",
    "    np.where(df.fourth_response.str.lower().str.contains('worse'),'2. worse',\n",
    "    np.where(df.fourth_response.str.lower().str.contains(\"same\"),\n",
    "             \"3. the same\",\"None\"))))\n",
    "\n",
    "df=df.assign(gpt_feature2=\n",
    "    np.where(df.first_response.str.lower().str.contains('a lot longer'),7,\n",
    "    np.where(df.first_response.str.lower().str.contains('a little longer'),4,\n",
    "    np.where(df.first_response.str.lower().str.contains('same amount of time'),\n",
    "             1,None))))\n",
    "\n",
    "df=df.assign(gpt_feature3=\n",
    "    np.where(df.second_response.str.lower().str.contains(\"fine\"),1,\n",
    "    np.where(df.second_response.str.lower().str.contains('little bad'),4,\n",
    "    np.where(df.second_response.str.lower().str.contains('really bad'),\n",
    "             7,None))))\n",
    "\n",
    "df=df.assign(gpt_feature1b=\n",
    "    np.where(df.third_response.str.lower().str.contains(\"appropriate\"),1,\n",
    "    np.where(df.third_response.str.lower().str.contains('less'),-2,\n",
    "    np.where(df.third_response.str.lower().str.contains(\"haven’t waited|has not waited\"),\n",
    "             -3,None))))\n",
    "\n",
    "df=df.assign(gpt_feature1c=\n",
    "    np.where(df.fourth_response.str.lower().str.contains(\"much worse\"),-3,\n",
    "    np.where(df.fourth_response.str.lower().str.contains('worse'),0,\n",
    "    np.where(df.fourth_response.str.lower().str.contains(\"same\"),\n",
    "             3,None))))\n",
    "\n",
    "df=df.assign(gpt_feature1b=np.where(df.feature1b.isna(),None,df.gpt_feature1b))\n",
    "df=df.assign(gpt_feature1c=np.where(df.feature1c.isna(),None,df.gpt_feature1c))"
   ]
  },
  {
   "cell_type": "markdown",
   "id": "ff6c7b9d",
   "metadata": {},
   "source": [
    "## Assign random features"
   ]
  },
  {
   "cell_type": "code",
   "execution_count": 7,
   "id": "d7c02102",
   "metadata": {},
   "outputs": [],
   "source": [
    "\n",
    "random.seed(0)\n",
    "\n",
    "df.shape\n",
    "\n",
    "l = [random.randint(0,2) for i in range(df.shape[0])]\n",
    "\n",
    "df=df.assign(feat2_rand=l)\n",
    "\n",
    "df=df.assign(feat2_rands=\n",
    "    np.where(df.feat2_rand==0,'3. a lot longer',\n",
    "    np.where(df.feat2_rand==1,'2. a little longer',\n",
    "    np.where(df.feat2_rand==2,'1. same amount of time',\"None\"))))\n",
    "\n",
    "\n",
    "\n",
    "l = [random.randint(0,2) for i in range(df.shape[0])]\n",
    "\n",
    "df=df.assign(feat3_rand=l)\n",
    "\n",
    "df=df.assign(feat3_rands=\n",
    "    np.where(df.feat2_rand==0,'3. really bad',\n",
    "    np.where(df.feat2_rand==1,'2. a little bad',\n",
    "    np.where(df.feat2_rand==2,\"1. she'll be fine\",\"None\"))))\n",
    "\n",
    "l = [random.randint(0,2) for i in range(df.shape[0])]\n",
    "\n",
    "df=df.assign(feat1b_rand=l)\n",
    "\n",
    "df=df.assign(feat1b_rands=\n",
    "    np.where(df.feat1b_rand==0,'1. appropriate',\n",
    "    np.where(df.feat1b_rand==1,'2. less',\n",
    "    np.where(df.feat1b_rand==2,'3. haven’t waited',\"None\"))))\n",
    "\n",
    "l = [random.randint(0,2) for i in range(df.shape[0])]\n",
    "\n",
    "df=df.assign(feat1c_rand=l)\n",
    "\n",
    "df=df.assign(feat1c_rands=\n",
    "    np.where(df.feat1c_rand==0,'1. much worse',\n",
    "    np.where(df.feat1c_rand==1,'2. worse',\n",
    "    np.where(df.feat1c_rand==2,'3. the same',\"None\"))))"
   ]
  },
  {
   "cell_type": "markdown",
   "id": "3daac99e",
   "metadata": {},
   "source": [
    "## Evaluate"
   ]
  },
  {
   "cell_type": "markdown",
   "id": "d2c5d5fd",
   "metadata": {},
   "source": [
    "### Feature 2"
   ]
  },
  {
   "cell_type": "code",
   "execution_count": 8,
   "id": "d9f0c11b",
   "metadata": {},
   "outputs": [
    {
     "data": {
      "image/png": "[encoded data removed]",
      "text/plain": [
       "<Figure size 720x720 with 2 Axes>"
      ]
     },
     "metadata": {
      "needs_background": "light"
     },
     "output_type": "display_data"
    }
   ],
   "source": [
    "fig, ax = plt.subplots(figsize=(10,10))\n",
    "ConfusionMatrixDisplay.from_predictions(df.feat2_cat,df.predf2,ax=ax)\n",
    "plt.title(\"How much longer will the kid in the front of the line have to wait\")\n",
    "plt.show()"
   ]
  },
  {
   "cell_type": "code",
   "execution_count": 9,
   "id": "b877ba39",
   "metadata": {},
   "outputs": [
    {
     "name": "stdout",
     "output_type": "stream",
     "text": [
      "Features prediction\n",
      "F1:  66.79\n",
      "Accuracy:  59.52\n"
     ]
    },
    {
     "name": "stderr",
     "output_type": "stream",
     "text": [
      "/home/feradauto/miniconda3/envs/scirex/lib/python3.7/site-packages/sklearn/metrics/_classification.py:1308: UndefinedMetricWarning: Precision and F-score are ill-defined and being set to 0.0 in labels with no predicted samples. Use `zero_division` parameter to control this behavior.\n",
      "  _warn_prf(average, modifier, msg_start, len(result))\n",
      "/home/feradauto/miniconda3/envs/scirex/lib/python3.7/site-packages/sklearn/metrics/_classification.py:1308: UndefinedMetricWarning: Precision and F-score are ill-defined and being set to 0.0 in labels with no predicted samples. Use `zero_division` parameter to control this behavior.\n",
      "  _warn_prf(average, modifier, msg_start, len(result))\n",
      "/home/feradauto/miniconda3/envs/scirex/lib/python3.7/site-packages/sklearn/metrics/_classification.py:1308: UndefinedMetricWarning: Precision and F-score are ill-defined and being set to 0.0 in labels with no predicted samples. Use `zero_division` parameter to control this behavior.\n",
      "  _warn_prf(average, modifier, msg_start, len(result))\n"
     ]
    }
   ],
   "source": [
    "gen=classification_report(df.feat2_cat,df.predf2,digits=4,output_dict=True)\n",
    "\n",
    "f1w=\"{0:.2f}\".format(100*gen['weighted avg']['f1-score'])\n",
    "accuracy=\"{0:.2f}\".format(100*gen['accuracy'])\n",
    "\n",
    "print(\"Features prediction\")\n",
    "print(\"F1: \",f1w)\n",
    "print(\"Accuracy: \",accuracy)"
   ]
  },
  {
   "cell_type": "code",
   "execution_count": 10,
   "id": "ac61d1c7",
   "metadata": {},
   "outputs": [
    {
     "name": "stdout",
     "output_type": "stream",
     "text": [
      "Random prediction\n",
      "F1:  48.85\n",
      "Accuracy:  38.10\n"
     ]
    }
   ],
   "source": [
    "gen=classification_report(df.feat2_cat,df.feat2_rands,digits=4,output_dict=True)\n",
    "\n",
    "f1w=\"{0:.2f}\".format(100*gen['weighted avg']['f1-score'])\n",
    "accuracy=\"{0:.2f}\".format(100*gen['accuracy'])\n",
    "\n",
    "print(\"Random prediction\")\n",
    "print(\"F1: \",f1w)\n",
    "print(\"Accuracy: \",accuracy)"
   ]
  },
  {
   "cell_type": "markdown",
   "id": "f36451de",
   "metadata": {},
   "source": [
    "### Feature 3"
   ]
  },
  {
   "cell_type": "code",
   "execution_count": 11,
   "id": "aaf07b79",
   "metadata": {},
   "outputs": [
    {
     "data": {
      "image/png": "[encoded data removed]",
      "text/plain": [
       "<Figure size 432x288 with 2 Axes>"
      ]
     },
     "metadata": {
      "needs_background": "light"
     },
     "output_type": "display_data"
    }
   ],
   "source": [
    "ConfusionMatrixDisplay.from_predictions(df.feat3_cat,df.predf3)\n",
    "plt.title(\"If she doesn't cut in line, how bad will things be for her?\")\n",
    "plt.show()"
   ]
  },
  {
   "cell_type": "code",
   "execution_count": 12,
   "id": "027db505",
   "metadata": {},
   "outputs": [
    {
     "name": "stdout",
     "output_type": "stream",
     "text": [
      "Features prediction\n",
      "F1:  57.02\n",
      "Accuracy:  66.67\n"
     ]
    },
    {
     "name": "stderr",
     "output_type": "stream",
     "text": [
      "/home/feradauto/miniconda3/envs/scirex/lib/python3.7/site-packages/sklearn/metrics/_classification.py:1308: UndefinedMetricWarning: Precision and F-score are ill-defined and being set to 0.0 in labels with no predicted samples. Use `zero_division` parameter to control this behavior.\n",
      "  _warn_prf(average, modifier, msg_start, len(result))\n",
      "/home/feradauto/miniconda3/envs/scirex/lib/python3.7/site-packages/sklearn/metrics/_classification.py:1308: UndefinedMetricWarning: Precision and F-score are ill-defined and being set to 0.0 in labels with no predicted samples. Use `zero_division` parameter to control this behavior.\n",
      "  _warn_prf(average, modifier, msg_start, len(result))\n",
      "/home/feradauto/miniconda3/envs/scirex/lib/python3.7/site-packages/sklearn/metrics/_classification.py:1308: UndefinedMetricWarning: Precision and F-score are ill-defined and being set to 0.0 in labels with no predicted samples. Use `zero_division` parameter to control this behavior.\n",
      "  _warn_prf(average, modifier, msg_start, len(result))\n"
     ]
    }
   ],
   "source": [
    "gen=classification_report(df.feat3_cat,df.predf3,digits=4,output_dict=True)\n",
    "\n",
    "f1w=\"{0:.2f}\".format(100*gen['weighted avg']['f1-score'])\n",
    "accuracy=\"{0:.2f}\".format(100*gen['accuracy'])\n",
    "\n",
    "print(\"Features prediction\")\n",
    "print(\"F1: \",f1w)\n",
    "print(\"Accuracy: \",accuracy)"
   ]
  },
  {
   "cell_type": "code",
   "execution_count": 13,
   "id": "11750d24",
   "metadata": {},
   "outputs": [
    {
     "name": "stdout",
     "output_type": "stream",
     "text": [
      "Random prediction\n",
      "F1:  21.59\n",
      "Accuracy:  19.05\n"
     ]
    }
   ],
   "source": [
    "gen=classification_report(df.feat3_cat,df.feat3_rands,digits=4,output_dict=True)\n",
    "\n",
    "f1w=\"{0:.2f}\".format(100*gen['weighted avg']['f1-score'])\n",
    "accuracy=\"{0:.2f}\".format(100*gen['accuracy'])\n",
    "\n",
    "print(\"Random prediction\")\n",
    "print(\"F1: \",f1w)\n",
    "print(\"Accuracy: \",accuracy)"
   ]
  },
  {
   "cell_type": "markdown",
   "id": "07be4d12",
   "metadata": {},
   "source": [
    "### Feature 1b"
   ]
  },
  {
   "cell_type": "code",
   "execution_count": 14,
   "id": "3ef152ff",
   "metadata": {},
   "outputs": [
    {
     "data": {
      "image/png": "[encoded data removed]",
      "text/plain": [
       "<Figure size 432x288 with 2 Axes>"
      ]
     },
     "metadata": {
      "needs_background": "light"
     },
     "output_type": "display_data"
    }
   ],
   "source": [
    "ConfusionMatrixDisplay.from_predictions(df.feat1b_cat,df.predf1b)\n",
    "plt.title(\"Has this person already waited the appropriate amount of time in line to get their snack?\")\n",
    "plt.show()"
   ]
  },
  {
   "cell_type": "code",
   "execution_count": 15,
   "id": "f37c4c4c",
   "metadata": {},
   "outputs": [
    {
     "name": "stdout",
     "output_type": "stream",
     "text": [
      "Features prediction\n",
      "F1:  4.85\n",
      "Accuracy:  7.14\n"
     ]
    },
    {
     "name": "stderr",
     "output_type": "stream",
     "text": [
      "/home/feradauto/miniconda3/envs/scirex/lib/python3.7/site-packages/sklearn/metrics/_classification.py:1308: UndefinedMetricWarning: Precision and F-score are ill-defined and being set to 0.0 in labels with no predicted samples. Use `zero_division` parameter to control this behavior.\n",
      "  _warn_prf(average, modifier, msg_start, len(result))\n",
      "/home/feradauto/miniconda3/envs/scirex/lib/python3.7/site-packages/sklearn/metrics/_classification.py:1308: UndefinedMetricWarning: Precision and F-score are ill-defined and being set to 0.0 in labels with no predicted samples. Use `zero_division` parameter to control this behavior.\n",
      "  _warn_prf(average, modifier, msg_start, len(result))\n",
      "/home/feradauto/miniconda3/envs/scirex/lib/python3.7/site-packages/sklearn/metrics/_classification.py:1308: UndefinedMetricWarning: Precision and F-score are ill-defined and being set to 0.0 in labels with no predicted samples. Use `zero_division` parameter to control this behavior.\n",
      "  _warn_prf(average, modifier, msg_start, len(result))\n"
     ]
    }
   ],
   "source": [
    "gen=classification_report(df.feat1b_cat,df.predf1b,digits=4,output_dict=True)\n",
    "\n",
    "f1w=\"{0:.2f}\".format(100*gen['weighted avg']['f1-score'])\n",
    "accuracy=\"{0:.2f}\".format(100*gen['accuracy'])\n",
    "\n",
    "print(\"Features prediction\")\n",
    "print(\"F1: \",f1w)\n",
    "print(\"Accuracy: \",accuracy)"
   ]
  },
  {
   "cell_type": "code",
   "execution_count": 16,
   "id": "ae0d1cd7",
   "metadata": {},
   "outputs": [
    {
     "name": "stdout",
     "output_type": "stream",
     "text": [
      "Random prediction\n",
      "F1:  40.95\n",
      "Accuracy:  35.71\n"
     ]
    }
   ],
   "source": [
    "gen=classification_report(df.feat1b_cat,df.feat1b_rands,digits=4,output_dict=True)\n",
    "\n",
    "f1w=\"{0:.2f}\".format(100*gen['weighted avg']['f1-score'])\n",
    "accuracy=\"{0:.2f}\".format(100*gen['accuracy'])\n",
    "\n",
    "print(\"Random prediction\")\n",
    "print(\"F1: \",f1w)\n",
    "print(\"Accuracy: \",accuracy)"
   ]
  },
  {
   "cell_type": "markdown",
   "id": "467bd261",
   "metadata": {},
   "source": [
    "### Feature 1c"
   ]
  },
  {
   "cell_type": "code",
   "execution_count": 17,
   "id": "aceeed61",
   "metadata": {},
   "outputs": [
    {
     "data": {
      "image/png": "[encoded data removed]",
      "text/plain": [
       "<Figure size 720x720 with 2 Axes>"
      ]
     },
     "metadata": {
      "needs_background": "light"
     },
     "output_type": "display_data"
    }
   ],
   "source": [
    "fig, ax1 = plt.subplots(figsize=(10,10))\n",
    "cm2=ConfusionMatrixDisplay.from_predictions(df.feat1c_cat,df.predf1c,ax=ax1)\n",
    "plt.title(\"Compared to the snack that the other kids got, how good is what this kid got?\")\n",
    "plt.show()"
   ]
  },
  {
   "cell_type": "code",
   "execution_count": 18,
   "id": "3da05ce6",
   "metadata": {},
   "outputs": [
    {
     "name": "stdout",
     "output_type": "stream",
     "text": [
      "Features prediction\n",
      "F1:  0.60\n",
      "Accuracy:  4.76\n"
     ]
    },
    {
     "name": "stderr",
     "output_type": "stream",
     "text": [
      "/home/feradauto/miniconda3/envs/scirex/lib/python3.7/site-packages/sklearn/metrics/_classification.py:1308: UndefinedMetricWarning: Precision and F-score are ill-defined and being set to 0.0 in labels with no predicted samples. Use `zero_division` parameter to control this behavior.\n",
      "  _warn_prf(average, modifier, msg_start, len(result))\n",
      "/home/feradauto/miniconda3/envs/scirex/lib/python3.7/site-packages/sklearn/metrics/_classification.py:1308: UndefinedMetricWarning: Recall and F-score are ill-defined and being set to 0.0 in labels with no true samples. Use `zero_division` parameter to control this behavior.\n",
      "  _warn_prf(average, modifier, msg_start, len(result))\n",
      "/home/feradauto/miniconda3/envs/scirex/lib/python3.7/site-packages/sklearn/metrics/_classification.py:1308: UndefinedMetricWarning: Precision and F-score are ill-defined and being set to 0.0 in labels with no predicted samples. Use `zero_division` parameter to control this behavior.\n",
      "  _warn_prf(average, modifier, msg_start, len(result))\n",
      "/home/feradauto/miniconda3/envs/scirex/lib/python3.7/site-packages/sklearn/metrics/_classification.py:1308: UndefinedMetricWarning: Recall and F-score are ill-defined and being set to 0.0 in labels with no true samples. Use `zero_division` parameter to control this behavior.\n",
      "  _warn_prf(average, modifier, msg_start, len(result))\n",
      "/home/feradauto/miniconda3/envs/scirex/lib/python3.7/site-packages/sklearn/metrics/_classification.py:1308: UndefinedMetricWarning: Precision and F-score are ill-defined and being set to 0.0 in labels with no predicted samples. Use `zero_division` parameter to control this behavior.\n",
      "  _warn_prf(average, modifier, msg_start, len(result))\n",
      "/home/feradauto/miniconda3/envs/scirex/lib/python3.7/site-packages/sklearn/metrics/_classification.py:1308: UndefinedMetricWarning: Recall and F-score are ill-defined and being set to 0.0 in labels with no true samples. Use `zero_division` parameter to control this behavior.\n",
      "  _warn_prf(average, modifier, msg_start, len(result))\n"
     ]
    }
   ],
   "source": [
    "gen=classification_report(df.feat1c_cat,df.predf1c,digits=4,output_dict=True)\n",
    "\n",
    "f1w=\"{0:.2f}\".format(100*gen['weighted avg']['f1-score'])\n",
    "accuracy=\"{0:.2f}\".format(100*gen['accuracy'])\n",
    "\n",
    "print(\"Features prediction\")\n",
    "print(\"F1: \",f1w)\n",
    "print(\"Accuracy: \",accuracy)"
   ]
  },
  {
   "cell_type": "code",
   "execution_count": 19,
   "id": "092f5d38",
   "metadata": {},
   "outputs": [
    {
     "name": "stdout",
     "output_type": "stream",
     "text": [
      "Random prediction\n",
      "F1:  28.23\n",
      "Accuracy:  26.19\n"
     ]
    }
   ],
   "source": [
    "gen=classification_report(df.feat1c_cat,df.feat1c_rands,digits=4,output_dict=True)\n",
    "\n",
    "f1w=\"{0:.2f}\".format(100*gen['weighted avg']['f1-score'])\n",
    "accuracy=\"{0:.2f}\".format(100*gen['accuracy'])\n",
    "\n",
    "print(\"Random prediction\")\n",
    "print(\"F1: \",f1w)\n",
    "print(\"Accuracy: \",accuracy)"
   ]
  },
  {
   "cell_type": "code",
   "execution_count": 20,
   "id": "187bf436",
   "metadata": {},
   "outputs": [],
   "source": [
    "df.to_csv(\"../../outputs/analysis/features/snacks_features.csv\",index=False)"
   ]
  },
  {
   "cell_type": "code",
   "execution_count": 153,
   "id": "142e9698",
   "metadata": {},
   "outputs": [],
   "source": [
    "#snacks=df.loc[:,['context', 'condition', 'study', 'human.response', 'feature1',\n",
    "#       'feature2', 'gpt_feature2','feature3', 'gpt_feature3','feature1b','gpt_feature1b', 'feature1c','gpt_feature1c', 'prompt',\n",
    "#       'prompt_short', 'prompt_long']]\n",
    "\n",
    "#snacks.to_csv(\"./snack_features_categorical.csv\",index=False)"
   ]
  },
  {
   "cell_type": "code",
   "execution_count": null,
   "id": "5d5f2b61",
   "metadata": {},
   "outputs": [],
   "source": []
  }
 ],
 "metadata": {
  "kernelspec": {
   "display_name": "Python 3 (ipykernel)",
   "language": "python",
   "name": "python3"
  },
  "language_info": {
   "codemirror_mode": {
    "name": "ipython",
    "version": 3
   },
   "file_extension": ".py",
   "mimetype": "text/x-python",
   "name": "python",
   "nbconvert_exporter": "python",
   "pygments_lexer": "ipython3",
   "version": "3.7.11"
  }
 },
 "nbformat": 4,
 "nbformat_minor": 5
}
