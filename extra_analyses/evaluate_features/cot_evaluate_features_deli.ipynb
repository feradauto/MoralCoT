{
 "cells": [
  {
   "cell_type": "markdown",
   "id": "d9065849",
   "metadata": {},
   "source": [
    "## Predict features' categories and evaluate performance (deli lines)"
   ]
  },
  {
   "cell_type": "code",
   "execution_count": 1,
   "id": "8955b472",
   "metadata": {},
   "outputs": [],
   "source": [
    "import os\n",
    "import openai\n",
    "import pandas as pd\n",
    "from sklearn.metrics import confusion_matrix,accuracy_score,ConfusionMatrixDisplay\n",
    "import sklearn\n",
    "from sklearn.metrics import mean_squared_error,mean_absolute_error,f1_score,classification_report\n",
    "import numpy as np\n",
    "import matplotlib.pyplot as plt\n",
    "import random\n",
    "openai.api_key = os.getenv(\"OPENAI_API_KEY\")"
   ]
  },
  {
   "cell_type": "markdown",
   "id": "38c67c04",
   "metadata": {},
   "source": [
    "## Get predictions"
   ]
  },
  {
   "cell_type": "code",
   "execution_count": 2,
   "id": "c33504ba",
   "metadata": {},
   "outputs": [],
   "source": [
    "df=pd.read_csv(\"../../input_data/complete_file.csv\")\n",
    "\n",
    "\n",
    "preprompt=\"Consider this situation and answer the question that follows:\\nSituation:\"\n",
    "\n",
    "df=df.assign(statement=preprompt+df.scenario+\"\\nQuestion: \")\n",
    "\n",
    "df=df.loc[(df.study=='lines') & (df.condition.isin(['deli','bathroom','airport'])),:].reset_index(drop=True)"
   ]
  },
  {
   "cell_type": "code",
   "execution_count": 3,
   "id": "fc8d7dbe",
   "metadata": {},
   "outputs": [],
   "source": [
    "f2=\"How much worse off/better off is the first person in line? Answer with one of the following: \\\"a lot worse off\\\", \\\"a little worse off\\\", \\\"not affected\\\", a \\\"little better off\\\", or \\\"a lot better off\\\"\"\n",
    "f3=\"How much worse off/better off is the person that cut in line? Answer with one of the following: \\\"a lot worse off\\\", \\\"a little worse off\\\", \\\"not affected\\\", a \\\"little better off\\\", or \\\"a lot better off\\\"\"\n",
    "f1b=\"Did the person already wait in line once? Answer yes or no.\"\n",
    "f1a=\"What is the most common thing people are trying to get by standing in this line?\"\n",
    "f1a2=\"Is this person trying to get that thing when they skip to the front of the line? Answer with yes or no.\"\n"
   ]
  },
  {
   "cell_type": "code",
   "execution_count": 4,
   "id": "9ef860ec",
   "metadata": {},
   "outputs": [],
   "source": [
    "df=df.assign(feat2_cat=np.where(df.feature2<=-25,\"1. a lot worse\",\n",
    "                                        np.where(df.feature2<=-5,\"2. a little worse\",\n",
    "                                        np.where(df.feature2<=5,\"3. not affected\",\n",
    "                                        np.where(df.feature2<=25,\"4. a little better\",\"5. a lot better\")))))\n",
    "df=df.assign(feat3_cat=np.where(df.feature3<=-25,\"1. a lot worse\",\n",
    "                                        np.where(df.feature3<=-5,\"2. a little worse\",\n",
    "                                        np.where(df.feature3<=5,\"3. not affected\",\n",
    "                                        np.where(df.feature3<=25,\"4. a little better\",\"5. a lot better\")))))\n",
    "df=df.assign(feat1b_cat=np.where(df.feature1b==1,\"1. yes\",\n",
    "                                        np.where(df.feature1b==0,\"2. no\",\"None\")))"
   ]
  },
  {
   "cell_type": "code",
   "execution_count": 5,
   "id": "4eb138cd",
   "metadata": {
    "scrolled": true
   },
   "outputs": [],
   "source": [
    "for i,d in df.iterrows():\n",
    "    input_prompt=d['statement']+f2\n",
    "    #print(input_prompt)\n",
    "    completion = openai.Completion.create(engine=\"text-davinci-002\", prompt=input_prompt,temperature=0,max_tokens=60)\n",
    "    df.loc[i,'first_response']=completion.choices[0].text\n",
    "    \n",
    "    \n",
    "    input_2=d['statement']+\"\\nQuestion: \"+f3+\"\\n\"\n",
    "    second_response = openai.Completion.create(engine=\"text-davinci-002\", prompt=input_2,temperature=0,max_tokens=60)\n",
    "    df.loc[i,'second_response']=second_response.choices[0].text\n",
    "\n",
    "    \n",
    "    input_3=d['statement']+\"\\nQuestion: \"+f1b+\"\\n\"\n",
    "    third_response = openai.Completion.create(engine=\"text-davinci-002\", prompt=input_3,temperature=0,max_tokens=60)\n",
    "    df.loc[i,'third_response']=third_response.choices[0].text\n",
    "    resp_final=df.loc[i,'third_response']\n"
   ]
  },
  {
   "cell_type": "markdown",
   "id": "22e83f63",
   "metadata": {},
   "source": [
    "## Assign categories"
   ]
  },
  {
   "cell_type": "code",
   "execution_count": 6,
   "id": "5f664b79",
   "metadata": {},
   "outputs": [],
   "source": [
    "df=df.assign(predf2=\n",
    "    np.where(df.first_response.str.lower().str.contains('a lot worse'),'1. a lot worse',\n",
    "    np.where(df.first_response.str.lower().str.contains('a little worse'),'2. a little worse',\n",
    "    np.where(df.first_response.str.lower().str.contains('not affected'),'3. not affected',\n",
    "    np.where(df.first_response.str.lower().str.contains('a little better'),'4. a little better',\n",
    "    np.where(df.first_response.str.lower().str.contains('a lot better'),\n",
    "             '5. a lot better',\"None\"))))))\n",
    "\n",
    "df=df.assign(predf3=\n",
    "    np.where(df.second_response.str.lower().str.contains('a lot worse'),'1. a lot worse',\n",
    "    np.where(df.second_response.str.lower().str.contains('a little worse'),'2. a little worse',\n",
    "    np.where(df.second_response.str.lower().str.contains('not affected'),'3. not affected',\n",
    "    np.where(df.second_response.str.lower().str.contains('a little better'),'4. a little better',\n",
    "    np.where(df.second_response.str.lower().str.contains('a lot better'),\n",
    "             '5. a lot better',\"None\"))))))\n",
    "\n",
    "df=df.assign(predf1b=\n",
    "    np.where(df.third_response.str.lower().str.contains(\"yes\"),\"1. yes\",\n",
    "    np.where(df.third_response.str.lower().str.contains('no'),'2. no',\"None\")))\n",
    "\n",
    "df=df.assign(gpt_feature2=\n",
    "    np.where(df.first_response.str.lower().str.contains('a lot worse'),-50,\n",
    "    np.where(df.first_response.str.lower().str.contains('a little worse'),-25,\n",
    "    np.where(df.first_response.str.lower().str.contains('not affected'),0,\n",
    "    np.where(df.first_response.str.lower().str.contains('a little better'),25,\n",
    "    np.where(df.first_response.str.lower().str.contains('a lot better'),\n",
    "             50,None))))))\n",
    "\n",
    "df=df.assign(gpt_feature3=\n",
    "    np.where(df.second_response.str.lower().str.contains('a lot worse'),-50,\n",
    "    np.where(df.second_response.str.lower().str.contains('a little worse'),-25,\n",
    "    np.where(df.second_response.str.lower().str.contains('not affected'),0,\n",
    "    np.where(df.second_response.str.lower().str.contains('a little better'),25,\n",
    "    np.where(df.second_response.str.lower().str.contains('a lot better'),\n",
    "            50,None))))))\n",
    "\n",
    "df=df.assign(gpt_feature1b=\n",
    "    np.where(df.third_response.str.lower().str.contains(\"yes\"),1,\n",
    "    np.where(df.third_response.str.lower().str.contains('no'),0,None)))\n",
    "\n",
    "df=df.assign(gpt_feature1c=None)"
   ]
  },
  {
   "cell_type": "markdown",
   "id": "0b0823ee",
   "metadata": {},
   "source": [
    "## Assign random features"
   ]
  },
  {
   "cell_type": "code",
   "execution_count": 7,
   "id": "61d08f18",
   "metadata": {},
   "outputs": [],
   "source": [
    "random.seed(0)\n",
    "\n",
    "l = [random.randint(0,4) for i in range(df.shape[0])]\n",
    "\n",
    "df=df.assign(feat2_rand=l)\n",
    "\n",
    "df=df.assign(feat2_rands=\n",
    "    np.where(df.feat2_rand==0,'1. a lot worse',\n",
    "    np.where(df.feat2_rand==1,'2. a little worse',\n",
    "    np.where(df.feat2_rand==2,'3. not affected',\n",
    "    np.where(df.feat2_rand==3,'4. a little better',\n",
    "    np.where(df.feat2_rand==4,'5. a lot better',\"None\"))))))\n",
    "\n",
    "l = [random.randint(0,4) for i in range(df.shape[0])]\n",
    "\n",
    "df=df.assign(feat3_rand=l)\n",
    "\n",
    "df=df.assign(feat3_rands=\n",
    "    np.where(df.feat3_rand==0,'1. a lot worse',\n",
    "    np.where(df.feat3_rand==1,'2. a little worse',\n",
    "    np.where(df.feat3_rand==2,'3. not affected',\n",
    "    np.where(df.feat3_rand==3,'4. a little better',\n",
    "    np.where(df.feat3_rand==4,'5. a lot better',\"None\"))))))\n",
    "\n",
    "l = [random.randint(0,1) for i in range(df.shape[0])]\n",
    "\n",
    "df=df.assign(feat1b_rand=l)\n",
    "\n",
    "df=df.assign(feat1b_rands=\n",
    "    np.where(df.feat1b_rand==0,'1. yes',\n",
    "    np.where(df.feat1b_rand==1,'2. no',\"None\")))"
   ]
  },
  {
   "cell_type": "markdown",
   "id": "feb3d30d",
   "metadata": {},
   "source": [
    "## Evaluate"
   ]
  },
  {
   "cell_type": "markdown",
   "id": "4eca2984",
   "metadata": {},
   "source": [
    "### Feature 2"
   ]
  },
  {
   "cell_type": "code",
   "execution_count": 8,
   "id": "8582f630",
   "metadata": {},
   "outputs": [
    {
     "data": {
      "image/png": "[encoded data removed]",
      "text/plain": [
       "<Figure size 720x720 with 2 Axes>"
      ]
     },
     "metadata": {
      "needs_background": "light"
     },
     "output_type": "display_data"
    }
   ],
   "source": [
    "fig, ax = plt.subplots(figsize=(10,10))\n",
    "ConfusionMatrixDisplay.from_predictions(df.feat2_cat,df.predf2,ax=ax)\n",
    "plt.title(\"How much worse off/better off is the first person in line?\")\n",
    "plt.show()"
   ]
  },
  {
   "cell_type": "code",
   "execution_count": 9,
   "id": "0fae36a2",
   "metadata": {},
   "outputs": [
    {
     "name": "stdout",
     "output_type": "stream",
     "text": [
      "Features prediction\n",
      "F1:  24.69\n",
      "Accuracy:  33.33\n"
     ]
    },
    {
     "name": "stderr",
     "output_type": "stream",
     "text": [
      "/home/feradauto/miniconda3/envs/scirex/lib/python3.7/site-packages/sklearn/metrics/_classification.py:1308: UndefinedMetricWarning: Precision and F-score are ill-defined and being set to 0.0 in labels with no predicted samples. Use `zero_division` parameter to control this behavior.\n",
      "  _warn_prf(average, modifier, msg_start, len(result))\n",
      "/home/feradauto/miniconda3/envs/scirex/lib/python3.7/site-packages/sklearn/metrics/_classification.py:1308: UndefinedMetricWarning: Recall and F-score are ill-defined and being set to 0.0 in labels with no true samples. Use `zero_division` parameter to control this behavior.\n",
      "  _warn_prf(average, modifier, msg_start, len(result))\n",
      "/home/feradauto/miniconda3/envs/scirex/lib/python3.7/site-packages/sklearn/metrics/_classification.py:1308: UndefinedMetricWarning: Precision and F-score are ill-defined and being set to 0.0 in labels with no predicted samples. Use `zero_division` parameter to control this behavior.\n",
      "  _warn_prf(average, modifier, msg_start, len(result))\n",
      "/home/feradauto/miniconda3/envs/scirex/lib/python3.7/site-packages/sklearn/metrics/_classification.py:1308: UndefinedMetricWarning: Recall and F-score are ill-defined and being set to 0.0 in labels with no true samples. Use `zero_division` parameter to control this behavior.\n",
      "  _warn_prf(average, modifier, msg_start, len(result))\n",
      "/home/feradauto/miniconda3/envs/scirex/lib/python3.7/site-packages/sklearn/metrics/_classification.py:1308: UndefinedMetricWarning: Precision and F-score are ill-defined and being set to 0.0 in labels with no predicted samples. Use `zero_division` parameter to control this behavior.\n",
      "  _warn_prf(average, modifier, msg_start, len(result))\n",
      "/home/feradauto/miniconda3/envs/scirex/lib/python3.7/site-packages/sklearn/metrics/_classification.py:1308: UndefinedMetricWarning: Recall and F-score are ill-defined and being set to 0.0 in labels with no true samples. Use `zero_division` parameter to control this behavior.\n",
      "  _warn_prf(average, modifier, msg_start, len(result))\n"
     ]
    }
   ],
   "source": [
    "gen=classification_report(df.feat2_cat,df.predf2,digits=4,output_dict=True)\n",
    "\n",
    "f1w=\"{0:.2f}\".format(100*gen['weighted avg']['f1-score'])\n",
    "accuracy=\"{0:.2f}\".format(100*gen['accuracy'])\n",
    "\n",
    "print(\"Features prediction\")\n",
    "print(\"F1: \",f1w)\n",
    "print(\"Accuracy: \",accuracy)"
   ]
  },
  {
   "cell_type": "code",
   "execution_count": 10,
   "id": "1e1bbea4",
   "metadata": {},
   "outputs": [
    {
     "name": "stdout",
     "output_type": "stream",
     "text": [
      "Random prediction\n",
      "F1:  23.57\n",
      "Accuracy:  16.67\n"
     ]
    },
    {
     "name": "stderr",
     "output_type": "stream",
     "text": [
      "/home/feradauto/miniconda3/envs/scirex/lib/python3.7/site-packages/sklearn/metrics/_classification.py:1308: UndefinedMetricWarning: Recall and F-score are ill-defined and being set to 0.0 in labels with no true samples. Use `zero_division` parameter to control this behavior.\n",
      "  _warn_prf(average, modifier, msg_start, len(result))\n",
      "/home/feradauto/miniconda3/envs/scirex/lib/python3.7/site-packages/sklearn/metrics/_classification.py:1308: UndefinedMetricWarning: Recall and F-score are ill-defined and being set to 0.0 in labels with no true samples. Use `zero_division` parameter to control this behavior.\n",
      "  _warn_prf(average, modifier, msg_start, len(result))\n",
      "/home/feradauto/miniconda3/envs/scirex/lib/python3.7/site-packages/sklearn/metrics/_classification.py:1308: UndefinedMetricWarning: Recall and F-score are ill-defined and being set to 0.0 in labels with no true samples. Use `zero_division` parameter to control this behavior.\n",
      "  _warn_prf(average, modifier, msg_start, len(result))\n"
     ]
    }
   ],
   "source": [
    "gen=classification_report(df.feat2_cat,df.feat2_rands,digits=4,output_dict=True)\n",
    "\n",
    "f1w=\"{0:.2f}\".format(100*gen['weighted avg']['f1-score'])\n",
    "accuracy=\"{0:.2f}\".format(100*gen['accuracy'])\n",
    "\n",
    "print(\"Random prediction\")\n",
    "print(\"F1: \",f1w)\n",
    "print(\"Accuracy: \",accuracy)"
   ]
  },
  {
   "cell_type": "markdown",
   "id": "574f929e",
   "metadata": {},
   "source": [
    "### Feature 3"
   ]
  },
  {
   "cell_type": "code",
   "execution_count": 11,
   "id": "cc7b5aa0",
   "metadata": {},
   "outputs": [
    {
     "data": {
      "image/png": "[encoded data removed]",
      "text/plain": [
       "<Figure size 720x720 with 2 Axes>"
      ]
     },
     "metadata": {
      "needs_background": "light"
     },
     "output_type": "display_data"
    }
   ],
   "source": [
    "fig, ax = plt.subplots(figsize=(10,10))\n",
    "ConfusionMatrixDisplay.from_predictions(df.feat3_cat,df.predf3,ax=ax)\n",
    "plt.title(\"How much worse off/better off is the person that cut in line?\")\n",
    "plt.show()"
   ]
  },
  {
   "cell_type": "code",
   "execution_count": 12,
   "id": "fbe84420",
   "metadata": {},
   "outputs": [
    {
     "name": "stdout",
     "output_type": "stream",
     "text": [
      "Features prediction\n",
      "F1:  63.47\n",
      "Accuracy:  62.50\n"
     ]
    },
    {
     "name": "stderr",
     "output_type": "stream",
     "text": [
      "/home/feradauto/miniconda3/envs/scirex/lib/python3.7/site-packages/sklearn/metrics/_classification.py:1308: UndefinedMetricWarning: Precision and F-score are ill-defined and being set to 0.0 in labels with no predicted samples. Use `zero_division` parameter to control this behavior.\n",
      "  _warn_prf(average, modifier, msg_start, len(result))\n",
      "/home/feradauto/miniconda3/envs/scirex/lib/python3.7/site-packages/sklearn/metrics/_classification.py:1308: UndefinedMetricWarning: Precision and F-score are ill-defined and being set to 0.0 in labels with no predicted samples. Use `zero_division` parameter to control this behavior.\n",
      "  _warn_prf(average, modifier, msg_start, len(result))\n",
      "/home/feradauto/miniconda3/envs/scirex/lib/python3.7/site-packages/sklearn/metrics/_classification.py:1308: UndefinedMetricWarning: Precision and F-score are ill-defined and being set to 0.0 in labels with no predicted samples. Use `zero_division` parameter to control this behavior.\n",
      "  _warn_prf(average, modifier, msg_start, len(result))\n"
     ]
    }
   ],
   "source": [
    "gen=classification_report(df.feat3_cat,df.predf3,digits=4,output_dict=True)\n",
    "\n",
    "f1w=\"{0:.2f}\".format(100*gen['weighted avg']['f1-score'])\n",
    "accuracy=\"{0:.2f}\".format(100*gen['accuracy'])\n",
    "\n",
    "print(\"Features prediction\")\n",
    "print(\"F1: \",f1w)\n",
    "print(\"Accuracy: \",accuracy)"
   ]
  },
  {
   "cell_type": "code",
   "execution_count": 13,
   "id": "e0f441f3",
   "metadata": {},
   "outputs": [
    {
     "name": "stdout",
     "output_type": "stream",
     "text": [
      "Random prediction\n",
      "F1:  38.83\n",
      "Accuracy:  29.17\n"
     ]
    },
    {
     "name": "stderr",
     "output_type": "stream",
     "text": [
      "/home/feradauto/miniconda3/envs/scirex/lib/python3.7/site-packages/sklearn/metrics/_classification.py:1308: UndefinedMetricWarning: Recall and F-score are ill-defined and being set to 0.0 in labels with no true samples. Use `zero_division` parameter to control this behavior.\n",
      "  _warn_prf(average, modifier, msg_start, len(result))\n",
      "/home/feradauto/miniconda3/envs/scirex/lib/python3.7/site-packages/sklearn/metrics/_classification.py:1308: UndefinedMetricWarning: Recall and F-score are ill-defined and being set to 0.0 in labels with no true samples. Use `zero_division` parameter to control this behavior.\n",
      "  _warn_prf(average, modifier, msg_start, len(result))\n",
      "/home/feradauto/miniconda3/envs/scirex/lib/python3.7/site-packages/sklearn/metrics/_classification.py:1308: UndefinedMetricWarning: Recall and F-score are ill-defined and being set to 0.0 in labels with no true samples. Use `zero_division` parameter to control this behavior.\n",
      "  _warn_prf(average, modifier, msg_start, len(result))\n"
     ]
    }
   ],
   "source": [
    "gen=classification_report(df.feat3_cat,df.feat3_rands,digits=4,output_dict=True)\n",
    "\n",
    "f1w=\"{0:.2f}\".format(100*gen['weighted avg']['f1-score'])\n",
    "accuracy=\"{0:.2f}\".format(100*gen['accuracy'])\n",
    "\n",
    "print(\"Random prediction\")\n",
    "print(\"F1: \",f1w)\n",
    "print(\"Accuracy: \",accuracy)"
   ]
  },
  {
   "cell_type": "markdown",
   "id": "3aa72b5d",
   "metadata": {},
   "source": [
    "### Feature 1"
   ]
  },
  {
   "cell_type": "code",
   "execution_count": 14,
   "id": "fea26922",
   "metadata": {},
   "outputs": [
    {
     "data": {
      "image/png": "[encoded data removed]",
      "text/plain": [
       "<Figure size 720x720 with 2 Axes>"
      ]
     },
     "metadata": {
      "needs_background": "light"
     },
     "output_type": "display_data"
    }
   ],
   "source": [
    "fig, ax = plt.subplots(figsize=(10,10))\n",
    "ConfusionMatrixDisplay.from_predictions(df.feat1b_cat,df.predf1b,ax=ax)\n",
    "plt.title(\"Did the person already wait in line once?\")\n",
    "plt.show()"
   ]
  },
  {
   "cell_type": "code",
   "execution_count": 15,
   "id": "80ebe2ab",
   "metadata": {},
   "outputs": [
    {
     "name": "stdout",
     "output_type": "stream",
     "text": [
      "Features prediction\n",
      "F1:  80.00\n",
      "Accuracy:  83.33\n"
     ]
    }
   ],
   "source": [
    "gen=classification_report(df.feat1b_cat,df.predf1b,digits=4,output_dict=True)\n",
    "\n",
    "f1w=\"{0:.2f}\".format(100*gen['weighted avg']['f1-score'])\n",
    "accuracy=\"{0:.2f}\".format(100*gen['accuracy'])\n",
    "\n",
    "print(\"Features prediction\")\n",
    "print(\"F1: \",f1w)\n",
    "print(\"Accuracy: \",accuracy)"
   ]
  },
  {
   "cell_type": "code",
   "execution_count": 16,
   "id": "802015c2",
   "metadata": {},
   "outputs": [
    {
     "name": "stdout",
     "output_type": "stream",
     "text": [
      "Random prediction\n",
      "F1:  49.27\n",
      "Accuracy:  45.83\n"
     ]
    }
   ],
   "source": [
    "gen=classification_report(df.feat1b_cat,df.feat1b_rands,digits=4,output_dict=True)\n",
    "\n",
    "f1w=\"{0:.2f}\".format(100*gen['weighted avg']['f1-score'])\n",
    "accuracy=\"{0:.2f}\".format(100*gen['accuracy'])\n",
    "\n",
    "print(\"Random prediction\")\n",
    "print(\"F1: \",f1w)\n",
    "print(\"Accuracy: \",accuracy)"
   ]
  },
  {
   "cell_type": "code",
   "execution_count": 17,
   "id": "dafa601f",
   "metadata": {},
   "outputs": [],
   "source": [
    "df.to_csv(\"../../outputs/analysis/features/deli_featues.csv\",index=False)"
   ]
  },
  {
   "cell_type": "code",
   "execution_count": 62,
   "id": "244d034c",
   "metadata": {},
   "outputs": [],
   "source": [
    "#deli=df.loc[:,['context', 'condition', 'study', 'human.response', 'feature1',\n",
    "#       'feature2', 'gpt_feature2','feature3', 'gpt_feature3','feature1b','gpt_feature1b', 'feature1c','gpt_feature1c', 'prompt',\n",
    "#       'prompt_short', 'prompt_long']]\n",
    "\n",
    "#deli.to_csv(\"./deli_features_categorical.csv\",index=False)"
   ]
  },
  {
   "cell_type": "code",
   "execution_count": null,
   "id": "8ed97385",
   "metadata": {},
   "outputs": [],
   "source": []
  },
  {
   "cell_type": "code",
   "execution_count": null,
   "id": "683ea15b",
   "metadata": {},
   "outputs": [],
   "source": []
  },
  {
   "cell_type": "code",
   "execution_count": null,
   "id": "4de6b773",
   "metadata": {},
   "outputs": [],
   "source": []
  },
  {
   "cell_type": "code",
   "execution_count": null,
   "id": "5d5f2b61",
   "metadata": {},
   "outputs": [],
   "source": []
  }
 ],
 "metadata": {
  "kernelspec": {
   "display_name": "Python 3 (ipykernel)",
   "language": "python",
   "name": "python3"
  },
  "language_info": {
   "codemirror_mode": {
    "name": "ipython",
    "version": 3
   },
   "file_extension": ".py",
   "mimetype": "text/x-python",
   "name": "python",
   "nbconvert_exporter": "python",
   "pygments_lexer": "ipython3",
   "version": "3.7.11"
  }
 },
 "nbformat": 4,
 "nbformat_minor": 5
}
