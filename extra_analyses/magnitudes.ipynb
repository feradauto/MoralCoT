{
 "cells": [
  {
   "cell_type": "markdown",
   "id": "11b6c6bf",
   "metadata": {},
   "source": [
    "## Evaluate ability of GPT3 to estimate prices"
   ]
  },
  {
   "cell_type": "code",
   "execution_count": 1,
   "id": "8955b472",
   "metadata": {},
   "outputs": [],
   "source": [
    "import os\n",
    "import openai\n",
    "import pandas as pd\n",
    "import sklearn\n",
    "from sklearn.metrics import mean_absolute_error,f1_score,accuracy_score\n",
    "import numpy as np\n",
    "import matplotlib.pyplot as plt\n",
    "import seaborn as sns\n",
    "import math\n",
    "openai.api_key = os.getenv(\"OPENAI_API_KEY\")\n",
    "\n",
    "def orderOfMagnitude(number):\n",
    "    try:\n",
    "        order=math.floor(math.log(number, 10))\n",
    "    except:\n",
    "        order=None\n",
    "    return order"
   ]
  },
  {
   "cell_type": "markdown",
   "id": "81bb4340",
   "metadata": {},
   "source": [
    "### Prepare requests"
   ]
  },
  {
   "cell_type": "code",
   "execution_count": 2,
   "id": "20c984d0",
   "metadata": {},
   "outputs": [],
   "source": [
    "df=pd.read_csv(\"../input_data/costs.csv\")\n",
    "\n",
    "\n",
    "df['query']=df['query'].str.lower().replace(\"average\",\"\",regex=True).str.lstrip(\" \")\n",
    "\n",
    "df=df.dropna().reset_index(drop=True)"
   ]
  },
  {
   "cell_type": "code",
   "execution_count": 3,
   "id": "d3816c13",
   "metadata": {},
   "outputs": [
    {
     "data": {
      "text/plain": [
       "(50, 2)"
      ]
     },
     "execution_count": 3,
     "metadata": {},
     "output_type": "execute_result"
    }
   ],
   "source": [
    "df.shape"
   ]
  },
  {
   "cell_type": "markdown",
   "id": "737331ee",
   "metadata": {},
   "source": [
    "### Ask for prices"
   ]
  },
  {
   "cell_type": "code",
   "execution_count": 4,
   "id": "8ddca178",
   "metadata": {
    "scrolled": true
   },
   "outputs": [
    {
     "name": "stdout",
     "output_type": "stream",
     "text": [
      "What is the average fine for jaywalking? (Respond with a dollar amount.)\n",
      "\n",
      "\n",
      "There is no definitive answer to this question as fines for jaywalking vary depending on the municipality. However, a quick search online reveals that the average fine for jaywalking in the United States is around $50.\n",
      "Ground truth 1.0\n",
      "################################\n",
      "What is the average cost of a cup of coffee? (Respond with a dollar amount.)\n",
      "\n",
      "\n",
      "$2.75\n",
      "Ground truth 5.0\n",
      "################################\n",
      "What is the average cost of painting a mailbox? (Respond with a dollar amount.)\n",
      "\n",
      "\n",
      "$50\n",
      "Ground truth 20.0\n",
      "################################\n",
      "What is the average cost of painting a front door? (Respond with a dollar amount.)\n",
      "\n",
      "\n",
      "The average cost of painting a front door is $100.\n",
      "Ground truth 150.0\n",
      "################################\n",
      "What is the average cost of repairing a house window? (Respond with a dollar amount.)\n",
      "\n",
      "\n",
      "The average cost of repairing a house window is $100.\n",
      "Ground truth 200.0\n",
      "################################\n",
      "What is the average cost of repairing a car window? (Respond with a dollar amount.)\n",
      "\n",
      "\n",
      "The average cost of repairing a car window is $100.\n",
      "Ground truth 300.0\n",
      "################################\n",
      "What is the average fine for littering? (Respond with a dollar amount.)\n",
      "\n",
      "\n",
      "The average fine for littering is $150.\n",
      "Ground truth 500.0\n",
      "################################\n",
      "What is the average cost of growing a garden? (Respond with a dollar amount.)\n",
      "\n",
      "\n",
      "The average cost of growing a garden is $600.\n",
      "Ground truth 1000.0\n",
      "################################\n",
      "What is the average cost of repairing all car windows? (Respond with a dollar amount.)\n",
      "\n",
      "\n",
      "The average cost of repairing all car windows is $200.\n",
      "Ground truth 1500.0\n",
      "################################\n",
      "What is the average cost of painting a car? (Respond with a dollar amount.)\n",
      "\n",
      "\n",
      "The average cost of painting a car is $1,000.\n",
      "Ground truth 3000.0\n",
      "################################\n",
      "What is the average cost of repairing all house windows? (Respond with a dollar amount.)\n",
      "\n",
      "\n",
      "The average cost of repairing all house windows is $300.\n",
      "Ground truth 3500.0\n",
      "################################\n",
      "What is the average cost of veterinarian bills for dog poisoning? (Respond with a dollar amount.)\n",
      "\n",
      "\n",
      "The average cost of veterinarian bills for dog poisoning is $800.\n",
      "Ground truth 4000.0\n",
      "################################\n",
      "What is the average cost of painting an entire house? (Respond with a dollar amount.)\n",
      "\n",
      "\n",
      "The average cost of painting an entire house is $1,500.\n",
      "Ground truth 5000.0\n",
      "################################\n",
      "What is the average fine for selling drugs to minors? (Respond with a dollar amount.)\n",
      "\n",
      "\n",
      "The average fine for selling drugs to minors is $1,000.\n",
      "Ground truth 10000.0\n",
      "################################\n",
      "What is the average cost of an  car? (Respond with a dollar amount.)\n",
      "\n",
      "\n",
      "$36,000\n",
      "Ground truth 50000.0\n",
      "################################\n",
      "What is the average cost of a luxury car? (Respond with a dollar amount.)\n",
      "\n",
      "\n",
      "The average cost of a luxury car is $85,000.\n",
      "Ground truth 65000.0\n",
      "################################\n",
      "What is the average amount of money lost in a pyramid scheme? (Respond with a dollar amount.)\n",
      "\n",
      "\n",
      "There is no definitive answer to this question as pyramid schemes can vary greatly in terms of the amount of money lost by participants. However, it is generally agreed that pyramid schemes result in a net loss for the vast majority of people who get involved.\n",
      "Ground truth 100000.0\n",
      "################################\n",
      "What is the average cost of an  house? (Respond with a dollar amount.)\n",
      "\n",
      "\n",
      "The average cost of a house is $250,000.\n",
      "Ground truth 350000.0\n",
      "################################\n",
      "What is the average value of a small business? (Respond with a dollar amount.)\n",
      "\n",
      "\n",
      "The average value of a small business is $3,000.\n",
      "Ground truth 500000.0\n",
      "################################\n",
      "What is the average fine for human trafficking? (Respond with a dollar amount.)\n",
      "\n",
      "\n",
      "There is no definitive answer to this question as the average fine for human trafficking can vary greatly depending on the country and the severity of the offense. However, some estimates suggest that the average fine for human trafficking offenses can range from $500 to $5,000.\n",
      "Ground truth 1500000.0\n",
      "################################\n",
      "What is the average fine for driving under the influence? (Respond with a dollar amount.)\n",
      "\n",
      "\n",
      "The average fine for driving under the influence is $1,000.\n",
      "Ground truth 2500.0\n",
      "################################\n",
      "What is the average fine for reckless driving? (Respond with a dollar amount.)\n",
      "\n",
      "\n",
      "The average fine for reckless driving is $1,000.\n",
      "Ground truth 100.0\n",
      "################################\n",
      "What is the average fine for first-time heroin possession? (Respond with a dollar amount.)\n",
      "\n",
      "\n",
      "The average fine for first-time heroin possession is $1,000.\n",
      "Ground truth 2000.0\n",
      "################################\n",
      "What is the average fine for speeding? (Respond with a dollar amount.)\n",
      "\n",
      "\n",
      "The average fine for speeding is $150.\n",
      "Ground truth 50.0\n",
      "################################\n",
      "What is the average cost of building a fence? (Respond with a dollar amount.)\n",
      "\n",
      "\n",
      "The average cost of building a fence is $1,700.\n",
      "Ground truth 2800.0\n",
      "################################\n",
      "What is the average cost of sodding a lawn? (Respond with a dollar amount.)\n",
      "\n",
      "\n",
      "The average cost of sodding a lawn is about $0.35 per square foot.\n",
      "Ground truth 1300.0\n",
      "################################\n",
      "What is the average cost of one car tire? (Respond with a dollar amount.)\n",
      "\n",
      "\n",
      "The average cost of one car tire is $100.\n",
      "Ground truth 170.0\n",
      "################################\n",
      "What is the average cost of replacing all the tires of a car? (Respond with a dollar amount.)\n",
      "\n",
      "\n",
      "$600\n",
      "Ground truth 680.0\n",
      "################################\n",
      "What is the average cost of an amazon package? (Respond with a dollar amount.)\n",
      "\n",
      "\n",
      "The average cost of an Amazon package is $5.\n",
      "Ground truth 40.0\n",
      "################################\n",
      "What is the average cost of a front door? (Respond with a dollar amount.)\n",
      "\n",
      "\n",
      "The average cost of a front door is about $100.\n",
      "Ground truth 600.0\n",
      "################################\n",
      "What is the average cost of pressure washing a driveway? (Respond with a dollar amount.)\n",
      "\n",
      "\n",
      "The average cost of pressure washing a driveway is $75.\n",
      "Ground truth 220.0\n",
      "################################\n",
      "What is the average cost of painting a doorknob? (Respond with a dollar amount.)\n",
      "\n",
      "\n",
      "There is no definitive answer to this question as the cost of painting a doorknob can vary greatly depending on the type of doorknob, the paint used, and the complexity of the design. However, a rough estimate would put the cost at around $5 per doorknob.\n",
      "Ground truth 2.0\n",
      "################################\n",
      "What is the average cost of pressure washing the outside of a house? (Respond with a dollar amount.)\n",
      "\n",
      "\n",
      "$200\n",
      "Ground truth 400.0\n",
      "################################\n",
      "What is the average value of the produce from one apple tree? (Respond with a dollar amount.)\n",
      "\n",
      "\n",
      "$200\n",
      "Ground truth 6500.0\n",
      "################################\n",
      "What is the average cost of repairing a lock? (Respond with a dollar amount.)\n",
      "\n",
      "\n",
      "The average cost of repairing a lock is $30.\n",
      "Ground truth 110.0\n",
      "################################\n",
      "What is the average fine for vehicular manslaughter? (Respond with a dollar amount.)\n",
      "\n",
      "\n",
      "The average fine for vehicular manslaughter is $1,000.\n",
      "Ground truth 25000.0\n",
      "################################\n",
      "What is the average fine for breaking and entering? (Respond with a dollar amount.)\n",
      "\n",
      "\n",
      "There is no definitive answer to this question as the amount of the fine varies depending on the jurisdiction and the severity of the offense. However, according to FindLaw.com, the average fine for breaking and entering is $1,000.\n",
      "Ground truth 200.0\n",
      "################################\n",
      "What is the average fine for assault and battery causing serious injury? (Respond with a dollar amount.)\n",
      "\n",
      "\n",
      "There is no definitive answer to this question as the amount of the fine will vary depending on the severity of the assault and battery, as well as the jurisdiction in which the crime was committed. However, as a general guideline, one can expect to pay a fine of anywhere from $500 to\n",
      "Ground truth 5000.0\n",
      "################################\n",
      "What is the average fine for failing to pay child support? (Respond with a dollar amount.)\n",
      "\n",
      "\n",
      "There is no average fine for failing to pay child support.\n",
      "Ground truth 5000.0\n",
      "################################\n"
     ]
    },
    {
     "name": "stdout",
     "output_type": "stream",
     "text": [
      "What is the average value of a pet dog? (Respond with a dollar amount.)\n",
      "\n",
      "\n",
      "The average value of a pet dog is $1,000.\n",
      "Ground truth 100000.0\n",
      "################################\n",
      "What is the average value of an old teddy bear? (Respond with a dollar amount.)\n",
      "\n",
      "\n",
      "There is no definitive answer to this question as the value of an old teddy bear depends on a number of factors, including its condition, age, and rarity. Generally speaking, however, an old teddy bear is likely to be worth anywhere from $20 to $200.\n",
      "Ground truth 1000.0\n",
      "################################\n",
      "What is the average value of a diamond necklace passed down for generations? (Respond with a dollar amount.)\n",
      "\n",
      "\n",
      "The average value of a diamond necklace passed down for generations is $5,000.\n",
      "Ground truth 250000.0\n",
      "################################\n",
      "What is the average value of a pet fish? (Respond with a dollar amount.)\n",
      "\n",
      "\n",
      "The average value of a pet fish is $5.\n",
      "Ground truth 500.0\n",
      "################################\n",
      "What is the average cost of eye surgery? (Respond with a dollar amount.)\n",
      "\n",
      "\n",
      "The average cost of eye surgery is $4,000.\n",
      "Ground truth 4000.0\n",
      "################################\n",
      "What is the average cost of fixing a broken leg? (Respond with a dollar amount.)\n",
      "\n",
      "\n",
      "The average cost of fixing a broken leg is $2,500.\n",
      "Ground truth 7500.0\n",
      "################################\n",
      "What is the average cost of a bicycle? (Respond with a dollar amount.)\n",
      "\n",
      "\n",
      "The average cost of a bicycle is $200.\n",
      "Ground truth 700.0\n",
      "################################\n",
      "What is the average cost of a new smartphone? (Respond with a dollar amount.)\n",
      "\n",
      "\n",
      "$1,000\n",
      "Ground truth 800.0\n",
      "################################\n",
      "What is the average value of a letter from a loved one? (Respond with a dollar amount.)\n",
      "\n",
      "\n",
      "There is no definitive answer to this question as it is highly subjective. Some people may place a high value on letters from loved ones, while others may not value them as much. Ultimately, the average value of a letter from a loved one depends on the individual.\n",
      "Ground truth 1000000.0\n",
      "################################\n",
      "What is the average cost of a great haircut? (Respond with a dollar amount.)\n",
      "\n",
      "\n",
      "The average cost of a great haircut is $45.\n",
      "Ground truth 100.0\n",
      "################################\n",
      "What is the average cost of one year of private undergraduate education? (Respond with a dollar amount.)\n",
      "\n",
      "\n",
      "The average cost of one year of private undergraduate education is $32,410.\n",
      "Ground truth 80000.0\n",
      "################################\n"
     ]
    }
   ],
   "source": [
    "for i,d in df.iterrows():\n",
    "    prompt=\"What is the average \"+d['query']+\"? (Respond with a dollar amount.)\"\n",
    "    response = openai.Completion.create(engine=\"text-davinci-002\", prompt=prompt,temperature=0,max_tokens=60)\n",
    "    response_text=response.choices[0].text\n",
    "    df.loc[i,'GPT3_estimation']=response_text\n",
    "    print(prompt)\n",
    "    print(response_text)\n",
    "    print(\"Ground truth\",d['in USD'])\n",
    "    print(\"################################\")"
   ]
  },
  {
   "cell_type": "markdown",
   "id": "aa4d6539",
   "metadata": {},
   "source": [
    "### Format response"
   ]
  },
  {
   "cell_type": "code",
   "execution_count": 6,
   "id": "0f2dda1a",
   "metadata": {},
   "outputs": [],
   "source": [
    "df['parsed_score']=df.GPT3_estimation.str.extract('(\\d+[,\\d]*[.*\\d]+)')\n",
    "df['parsed_score']=df.parsed_score.replace(\",\",\"\",regex=True)\n",
    "df['parsed_score']=pd.to_numeric(df['parsed_score'])"
   ]
  },
  {
   "cell_type": "code",
   "execution_count": 7,
   "id": "0d1d7977",
   "metadata": {
    "scrolled": true
   },
   "outputs": [
    {
     "data": {
      "text/html": [
       "<div>\n",
       "<style scoped>\n",
       "    .dataframe tbody tr th:only-of-type {\n",
       "        vertical-align: middle;\n",
       "    }\n",
       "\n",
       "    .dataframe tbody tr th {\n",
       "        vertical-align: top;\n",
       "    }\n",
       "\n",
       "    .dataframe thead th {\n",
       "        text-align: right;\n",
       "    }\n",
       "</style>\n",
       "<table border=\"1\" class=\"dataframe\">\n",
       "  <thead>\n",
       "    <tr style=\"text-align: right;\">\n",
       "      <th></th>\n",
       "      <th>in USD</th>\n",
       "      <th>parsed_score</th>\n",
       "    </tr>\n",
       "  </thead>\n",
       "  <tbody>\n",
       "    <tr>\n",
       "      <th>in USD</th>\n",
       "      <td>1.00000</td>\n",
       "      <td>0.17614</td>\n",
       "    </tr>\n",
       "    <tr>\n",
       "      <th>parsed_score</th>\n",
       "      <td>0.17614</td>\n",
       "      <td>1.00000</td>\n",
       "    </tr>\n",
       "  </tbody>\n",
       "</table>\n",
       "</div>"
      ],
      "text/plain": [
       "               in USD  parsed_score\n",
       "in USD        1.00000       0.17614\n",
       "parsed_score  0.17614       1.00000"
      ]
     },
     "execution_count": 7,
     "metadata": {},
     "output_type": "execute_result"
    }
   ],
   "source": [
    "df.corr()"
   ]
  },
  {
   "cell_type": "markdown",
   "id": "812b41aa",
   "metadata": {},
   "source": [
    "### Measure magnitudes"
   ]
  },
  {
   "cell_type": "code",
   "execution_count": 8,
   "id": "cae3e16e",
   "metadata": {},
   "outputs": [
    {
     "name": "stdout",
     "output_type": "stream",
     "text": [
      "MAE:  0.7111111111111111\n"
     ]
    }
   ],
   "source": [
    "df=df.assign(magnitude_gpt3=df.parsed_score.apply(orderOfMagnitude))\n",
    "df=df.assign(magnitude=df['in USD'].apply(orderOfMagnitude))\n",
    "\n",
    "df_mae=df.dropna()\n",
    "\n",
    "## for this one the response was per square foot\n",
    "df_mae=df_mae.loc[~df_mae['query'].isin(['cost of sodding a lawn'])]\n",
    "\n",
    "print(\"MAE: \",mean_absolute_error(df_mae['magnitude'], df_mae.magnitude_gpt3))"
   ]
  },
  {
   "cell_type": "code",
   "execution_count": 10,
   "id": "75bb9ece",
   "metadata": {},
   "outputs": [
    {
     "data": {
      "image/png": "[encoded data removed]",
      "text/plain": [
       "<Figure size 432x288 with 1 Axes>"
      ]
     },
     "metadata": {
      "needs_background": "light"
     },
     "output_type": "display_data"
    }
   ],
   "source": [
    "plt.scatter(df['magnitude'],df.magnitude_gpt3)\n",
    "plt.title(\"Scatter plot magnitudes\")\n",
    "plt.ylabel(\"Magnitude GPT3\")\n",
    "plt.xlabel(\"Magnitude Human\")\n",
    "plt.show()"
   ]
  },
  {
   "cell_type": "code",
   "execution_count": 12,
   "id": "fea207ca",
   "metadata": {},
   "outputs": [],
   "source": [
    "df_mae=df_mae.loc[:,['query','in USD','parsed_score','magnitude','magnitude_gpt3']]"
   ]
  },
  {
   "cell_type": "code",
   "execution_count": 13,
   "id": "2aa4260e",
   "metadata": {},
   "outputs": [],
   "source": [
    "df_mae.to_csv(\"../outputs/analysis/responses_gpt3_prices.csv\",index=False)"
   ]
  },
  {
   "cell_type": "code",
   "execution_count": null,
   "id": "8adb03aa",
   "metadata": {},
   "outputs": [],
   "source": []
  }
 ],
 "metadata": {
  "kernelspec": {
   "display_name": "Python 3 (ipykernel)",
   "language": "python",
   "name": "python3"
  },
  "language_info": {
   "codemirror_mode": {
    "name": "ipython",
    "version": 3
   },
   "file_extension": ".py",
   "mimetype": "text/x-python",
   "name": "python",
   "nbconvert_exporter": "python",
   "pygments_lexer": "ipython3",
   "version": "3.7.11"
  }
 },
 "nbformat": 4,
 "nbformat_minor": 5
}
